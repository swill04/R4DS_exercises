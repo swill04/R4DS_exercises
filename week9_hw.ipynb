{
 "cells": [
  {
   "attachments": {},
   "cell_type": "markdown",
   "metadata": {},
   "source": [
    "# Running Exercises"
   ]
  },
  {
   "cell_type": "code",
   "execution_count": 1,
   "metadata": {
    "vscode": {
     "languageId": "r"
    }
   },
   "outputs": [
    {
     "name": "stderr",
     "output_type": "stream",
     "text": [
      "── \u001b[1mAttaching packages\u001b[22m ─────────────────────────────────────── tidyverse 1.3.2 ──\n",
      "\u001b[32m✔\u001b[39m \u001b[34mggplot2\u001b[39m 3.5.1     \u001b[32m✔\u001b[39m \u001b[34mpurrr  \u001b[39m 1.0.2\n",
      "\u001b[32m✔\u001b[39m \u001b[34mtibble \u001b[39m 3.2.1     \u001b[32m✔\u001b[39m \u001b[34mdplyr  \u001b[39m 1.1.4\n",
      "\u001b[32m✔\u001b[39m \u001b[34mtidyr  \u001b[39m 1.3.1     \u001b[32m✔\u001b[39m \u001b[34mstringr\u001b[39m 1.5.1\n",
      "\u001b[32m✔\u001b[39m \u001b[34mreadr  \u001b[39m 2.1.5     \u001b[32m✔\u001b[39m \u001b[34mforcats\u001b[39m 1.0.0\n",
      "Warning message:\n",
      "“package ‘ggplot2’ was built under R version 4.2.3”\n",
      "Warning message:\n",
      "“package ‘tibble’ was built under R version 4.2.3”\n",
      "Warning message:\n",
      "“package ‘tidyr’ was built under R version 4.2.3”\n",
      "Warning message:\n",
      "“package ‘readr’ was built under R version 4.2.3”\n",
      "Warning message:\n",
      "“package ‘purrr’ was built under R version 4.2.3”\n",
      "Warning message:\n",
      "“package ‘dplyr’ was built under R version 4.2.3”\n",
      "Warning message:\n",
      "“package ‘stringr’ was built under R version 4.2.3”\n",
      "Warning message:\n",
      "“package ‘forcats’ was built under R version 4.2.3”\n",
      "── \u001b[1mConflicts\u001b[22m ────────────────────────────────────────── tidyverse_conflicts() ──\n",
      "\u001b[31m✖\u001b[39m \u001b[34mdplyr\u001b[39m::\u001b[32mfilter()\u001b[39m masks \u001b[34mstats\u001b[39m::filter()\n",
      "\u001b[31m✖\u001b[39m \u001b[34mdplyr\u001b[39m::\u001b[32mlag()\u001b[39m    masks \u001b[34mstats\u001b[39m::lag()\n"
     ]
    }
   ],
   "source": [
    "library(tidyverse)"
   ]
  },
  {
   "cell_type": "code",
   "execution_count": 2,
   "metadata": {
    "vscode": {
     "languageId": "r"
    }
   },
   "outputs": [
    {
     "data": {
      "text/html": [
       "<table class=\"dataframe\">\n",
       "<caption>A tibble: 21483 × 9</caption>\n",
       "<thead>\n",
       "\t<tr><th scope=col>year</th><th scope=col>marital</th><th scope=col>age</th><th scope=col>race</th><th scope=col>rincome</th><th scope=col>partyid</th><th scope=col>relig</th><th scope=col>denom</th><th scope=col>tvhours</th></tr>\n",
       "\t<tr><th scope=col>&lt;int&gt;</th><th scope=col>&lt;fct&gt;</th><th scope=col>&lt;int&gt;</th><th scope=col>&lt;fct&gt;</th><th scope=col>&lt;fct&gt;</th><th scope=col>&lt;fct&gt;</th><th scope=col>&lt;fct&gt;</th><th scope=col>&lt;fct&gt;</th><th scope=col>&lt;int&gt;</th></tr>\n",
       "</thead>\n",
       "<tbody>\n",
       "\t<tr><td>2000</td><td>Never married</td><td>26</td><td>White</td><td>$8000 to 9999 </td><td>Ind,near rep      </td><td>Protestant        </td><td>Southern baptist </td><td>12</td></tr>\n",
       "\t<tr><td>2000</td><td>Divorced     </td><td>48</td><td>White</td><td>$8000 to 9999 </td><td>Not str republican</td><td>Protestant        </td><td>Baptist-dk which </td><td>NA</td></tr>\n",
       "\t<tr><td>2000</td><td>Widowed      </td><td>67</td><td>White</td><td>Not applicable</td><td>Independent       </td><td>Protestant        </td><td>No denomination  </td><td> 2</td></tr>\n",
       "\t<tr><td>2000</td><td>Never married</td><td>39</td><td>White</td><td>Not applicable</td><td>Ind,near rep      </td><td>Orthodox-christian</td><td>Not applicable   </td><td> 4</td></tr>\n",
       "\t<tr><td>2000</td><td>Divorced     </td><td>25</td><td>White</td><td>Not applicable</td><td>Not str democrat  </td><td>None              </td><td>Not applicable   </td><td> 1</td></tr>\n",
       "\t<tr><td>2000</td><td>Married      </td><td>25</td><td>White</td><td>$20000 - 24999</td><td>Strong democrat   </td><td>Protestant        </td><td>Southern baptist </td><td>NA</td></tr>\n",
       "\t<tr><td>2000</td><td>Never married</td><td>36</td><td>White</td><td>$25000 or more</td><td>Not str republican</td><td>Christian         </td><td>Not applicable   </td><td> 3</td></tr>\n",
       "\t<tr><td>2000</td><td>Divorced     </td><td>44</td><td>White</td><td>$7000 to 7999 </td><td>Ind,near dem      </td><td>Protestant        </td><td>Lutheran-mo synod</td><td>NA</td></tr>\n",
       "\t<tr><td>2000</td><td>Married      </td><td>44</td><td>White</td><td>$25000 or more</td><td>Not str democrat  </td><td>Protestant        </td><td>Other            </td><td> 0</td></tr>\n",
       "\t<tr><td>2000</td><td>Married      </td><td>47</td><td>White</td><td>$25000 or more</td><td>Strong republican </td><td>Protestant        </td><td>Southern baptist </td><td> 3</td></tr>\n",
       "\t<tr><td>2000</td><td>Married      </td><td>53</td><td>White</td><td>$25000 or more</td><td>Not str democrat  </td><td>Protestant        </td><td>Other            </td><td> 2</td></tr>\n",
       "\t<tr><td>2000</td><td>Married      </td><td>52</td><td>White</td><td>$25000 or more</td><td>Ind,near rep      </td><td>None              </td><td>Not applicable   </td><td>NA</td></tr>\n",
       "\t<tr><td>2000</td><td>Married      </td><td>52</td><td>White</td><td>$25000 or more</td><td>Strong democrat   </td><td>Protestant        </td><td>Southern baptist </td><td> 1</td></tr>\n",
       "\t<tr><td>2000</td><td>Married      </td><td>51</td><td>White</td><td>$25000 or more</td><td>Strong republican </td><td>Protestant        </td><td>United methodist </td><td>NA</td></tr>\n",
       "\t<tr><td>2000</td><td>Divorced     </td><td>52</td><td>White</td><td>$25000 or more</td><td>Ind,near dem      </td><td>None              </td><td>Not applicable   </td><td> 1</td></tr>\n",
       "\t<tr><td>2000</td><td>Married      </td><td>40</td><td>Black</td><td>$25000 or more</td><td>Strong democrat   </td><td>Protestant        </td><td>Baptist-dk which </td><td> 7</td></tr>\n",
       "\t<tr><td>2000</td><td>Widowed      </td><td>77</td><td>White</td><td>Not applicable</td><td>Strong republican </td><td>Jewish            </td><td>Not applicable   </td><td>NA</td></tr>\n",
       "\t<tr><td>2000</td><td>Never married</td><td>44</td><td>White</td><td>$25000 or more</td><td>Independent       </td><td>None              </td><td>Not applicable   </td><td> 3</td></tr>\n",
       "\t<tr><td>2000</td><td>Married      </td><td>40</td><td>White</td><td>$10000 - 14999</td><td>Not str democrat  </td><td>Catholic          </td><td>Not applicable   </td><td> 3</td></tr>\n",
       "\t<tr><td>2000</td><td>Married      </td><td>45</td><td>Black</td><td>Not applicable</td><td>Independent       </td><td>Protestant        </td><td>United methodist </td><td>NA</td></tr>\n",
       "\t<tr><td>2000</td><td>Married      </td><td>48</td><td>White</td><td>$25000 or more</td><td>Ind,near dem      </td><td>Catholic          </td><td>Not applicable   </td><td> 1</td></tr>\n",
       "\t<tr><td>2000</td><td>Married      </td><td>49</td><td>White</td><td>Refused       </td><td>Strong republican </td><td>Protestant        </td><td>United methodist </td><td> 2</td></tr>\n",
       "\t<tr><td>2000</td><td>Never married</td><td>19</td><td>White</td><td>Not applicable</td><td>Independent       </td><td>None              </td><td>Not applicable   </td><td> 2</td></tr>\n",
       "\t<tr><td>2000</td><td>Widowed      </td><td>54</td><td>White</td><td>$25000 or more</td><td>Ind,near rep      </td><td>Christian         </td><td>Not applicable   </td><td> 1</td></tr>\n",
       "\t<tr><td>2000</td><td>Widowed      </td><td>82</td><td>White</td><td>Not applicable</td><td>Not str democrat  </td><td>Protestant        </td><td>Other            </td><td> 3</td></tr>\n",
       "\t<tr><td>2000</td><td>Widowed      </td><td>83</td><td>White</td><td>Not applicable</td><td>Strong democrat   </td><td>Protestant        </td><td>Episcopal        </td><td>NA</td></tr>\n",
       "\t<tr><td>2000</td><td>Widowed      </td><td>89</td><td>White</td><td>Not applicable</td><td>Not str democrat  </td><td>Protestant        </td><td>Other lutheran   </td><td> 4</td></tr>\n",
       "\t<tr><td>2000</td><td>Widowed      </td><td>88</td><td>White</td><td>Not applicable</td><td>Strong republican </td><td>Protestant        </td><td>Afr meth ep zion </td><td>NA</td></tr>\n",
       "\t<tr><td>2000</td><td>Divorced     </td><td>72</td><td>White</td><td>Not applicable</td><td>Strong democrat   </td><td>Protestant        </td><td>Southern baptist </td><td> 7</td></tr>\n",
       "\t<tr><td>2000</td><td>Widowed      </td><td>82</td><td>White</td><td>Not applicable</td><td>Independent       </td><td>Protestant        </td><td>Am bapt ch in usa</td><td>NA</td></tr>\n",
       "\t<tr><td>⋮</td><td>⋮</td><td>⋮</td><td>⋮</td><td>⋮</td><td>⋮</td><td>⋮</td><td>⋮</td><td>⋮</td></tr>\n",
       "\t<tr><td>2014</td><td>Divorced     </td><td>38</td><td>White</td><td>$3000 to 3999 </td><td>Not str republican</td><td>Protestant</td><td>Other           </td><td> 1</td></tr>\n",
       "\t<tr><td>2014</td><td>Widowed      </td><td>46</td><td>White</td><td>$25000 or more</td><td>Strong democrat   </td><td>None      </td><td>Not applicable  </td><td> 2</td></tr>\n",
       "\t<tr><td>2014</td><td>Married      </td><td>49</td><td>White</td><td>Not applicable</td><td>Ind,near rep      </td><td>Protestant</td><td>Other           </td><td> 6</td></tr>\n",
       "\t<tr><td>2014</td><td>Never married</td><td>34</td><td>White</td><td>$25000 or more</td><td>Independent       </td><td>Protestant</td><td>United methodist</td><td> 2</td></tr>\n",
       "\t<tr><td>2014</td><td>Married      </td><td>54</td><td>White</td><td>Not applicable</td><td>Independent       </td><td>Protestant</td><td>Other           </td><td>NA</td></tr>\n",
       "\t<tr><td>2014</td><td>Married      </td><td>34</td><td>White</td><td>$15000 - 19999</td><td>Ind,near dem      </td><td>Buddhism  </td><td>Not applicable  </td><td> 1</td></tr>\n",
       "\t<tr><td>2014</td><td>Married      </td><td>69</td><td>White</td><td>Not applicable</td><td>Ind,near dem      </td><td>Jewish    </td><td>Not applicable  </td><td> 3</td></tr>\n",
       "\t<tr><td>2014</td><td>Divorced     </td><td>36</td><td>White</td><td>Not applicable</td><td>Independent       </td><td>None      </td><td>Not applicable  </td><td> 0</td></tr>\n",
       "\t<tr><td>2014</td><td>Married      </td><td>65</td><td>White</td><td>$25000 or more</td><td>Not str democrat  </td><td>None      </td><td>Not applicable  </td><td> 2</td></tr>\n",
       "\t<tr><td>2014</td><td>Married      </td><td>48</td><td>White</td><td>$20000 - 24999</td><td>Strong democrat   </td><td>Protestant</td><td>Other           </td><td> 0</td></tr>\n",
       "\t<tr><td>2014</td><td>Married      </td><td>38</td><td>White</td><td>$10000 - 14999</td><td>Not str democrat  </td><td>Protestant</td><td>No denomination </td><td> 2</td></tr>\n",
       "\t<tr><td>2014</td><td>Never married</td><td>30</td><td>White</td><td>$4000 to 4999 </td><td>Ind,near dem      </td><td>None      </td><td>Not applicable  </td><td> 2</td></tr>\n",
       "\t<tr><td>2014</td><td>Married      </td><td>48</td><td>White</td><td>$8000 to 9999 </td><td>Not str republican</td><td>Catholic  </td><td>Not applicable  </td><td> 0</td></tr>\n",
       "\t<tr><td>2014</td><td>Divorced     </td><td>49</td><td>White</td><td>$25000 or more</td><td>Ind,near rep      </td><td>Other     </td><td>Not applicable  </td><td> 2</td></tr>\n",
       "\t<tr><td>2014</td><td>Married      </td><td>54</td><td>White</td><td>$25000 or more</td><td>Ind,near dem      </td><td>Protestant</td><td>Other           </td><td>NA</td></tr>\n",
       "\t<tr><td>2014</td><td>Married      </td><td>49</td><td>White</td><td>$25000 or more</td><td>Not str republican</td><td>Catholic  </td><td>Not applicable  </td><td>NA</td></tr>\n",
       "\t<tr><td>2014</td><td>Married      </td><td>53</td><td>White</td><td>$25000 or more</td><td>Not str democrat  </td><td>None      </td><td>Not applicable  </td><td> 0</td></tr>\n",
       "\t<tr><td>2014</td><td>Married      </td><td>52</td><td>White</td><td>$25000 or more</td><td>Not str democrat  </td><td>None      </td><td>Not applicable  </td><td> 1</td></tr>\n",
       "\t<tr><td>2014</td><td>Widowed      </td><td>82</td><td>White</td><td>Not applicable</td><td>Strong democrat   </td><td>Protestant</td><td>Other           </td><td> 2</td></tr>\n",
       "\t<tr><td>2014</td><td>Married      </td><td>63</td><td>White</td><td>Not applicable</td><td>Ind,near dem      </td><td>No answer </td><td>No answer       </td><td> 2</td></tr>\n",
       "\t<tr><td>2014</td><td>Divorced     </td><td>54</td><td>White</td><td>$25000 or more</td><td>Ind,near rep      </td><td>Catholic  </td><td>Not applicable  </td><td> 3</td></tr>\n",
       "\t<tr><td>2014</td><td>Married      </td><td>62</td><td>White</td><td>$25000 or more</td><td>Ind,near rep      </td><td>Protestant</td><td>Other           </td><td>NA</td></tr>\n",
       "\t<tr><td>2014</td><td>Never married</td><td>40</td><td>White</td><td>$1000 to 2999 </td><td>Not str republican</td><td>None      </td><td>Not applicable  </td><td> 2</td></tr>\n",
       "\t<tr><td>2014</td><td>Married      </td><td>33</td><td>White</td><td>Not applicable</td><td>Independent       </td><td>Christian </td><td>No denomination </td><td> 0</td></tr>\n",
       "\t<tr><td>2014</td><td>Widowed      </td><td>75</td><td>White</td><td>Don't know    </td><td>Strong republican </td><td>Protestant</td><td>Baptist-dk which</td><td> 4</td></tr>\n",
       "\t<tr><td>2014</td><td>Widowed      </td><td>89</td><td>White</td><td>Not applicable</td><td>Not str republican</td><td>Protestant</td><td>United methodist</td><td> 3</td></tr>\n",
       "\t<tr><td>2014</td><td>Divorced     </td><td>56</td><td>White</td><td>$25000 or more</td><td>Independent       </td><td>None      </td><td>Not applicable  </td><td> 4</td></tr>\n",
       "\t<tr><td>2014</td><td>Never married</td><td>24</td><td>White</td><td>$10000 - 14999</td><td>Ind,near dem      </td><td>None      </td><td>Not applicable  </td><td> 4</td></tr>\n",
       "\t<tr><td>2014</td><td>Never married</td><td>27</td><td>White</td><td>$25000 or more</td><td>Not str democrat  </td><td>Catholic  </td><td>Not applicable  </td><td>NA</td></tr>\n",
       "\t<tr><td>2014</td><td>Widowed      </td><td>71</td><td>White</td><td>$20000 - 24999</td><td>Ind,near rep      </td><td>Protestant</td><td>Other           </td><td> 2</td></tr>\n",
       "</tbody>\n",
       "</table>\n"
      ],
      "text/latex": [
       "A tibble: 21483 × 9\n",
       "\\begin{tabular}{lllllllll}\n",
       " year & marital & age & race & rincome & partyid & relig & denom & tvhours\\\\\n",
       " <int> & <fct> & <int> & <fct> & <fct> & <fct> & <fct> & <fct> & <int>\\\\\n",
       "\\hline\n",
       "\t 2000 & Never married & 26 & White & \\$8000 to 9999  & Ind,near rep       & Protestant         & Southern baptist  & 12\\\\\n",
       "\t 2000 & Divorced      & 48 & White & \\$8000 to 9999  & Not str republican & Protestant         & Baptist-dk which  & NA\\\\\n",
       "\t 2000 & Widowed       & 67 & White & Not applicable & Independent        & Protestant         & No denomination   &  2\\\\\n",
       "\t 2000 & Never married & 39 & White & Not applicable & Ind,near rep       & Orthodox-christian & Not applicable    &  4\\\\\n",
       "\t 2000 & Divorced      & 25 & White & Not applicable & Not str democrat   & None               & Not applicable    &  1\\\\\n",
       "\t 2000 & Married       & 25 & White & \\$20000 - 24999 & Strong democrat    & Protestant         & Southern baptist  & NA\\\\\n",
       "\t 2000 & Never married & 36 & White & \\$25000 or more & Not str republican & Christian          & Not applicable    &  3\\\\\n",
       "\t 2000 & Divorced      & 44 & White & \\$7000 to 7999  & Ind,near dem       & Protestant         & Lutheran-mo synod & NA\\\\\n",
       "\t 2000 & Married       & 44 & White & \\$25000 or more & Not str democrat   & Protestant         & Other             &  0\\\\\n",
       "\t 2000 & Married       & 47 & White & \\$25000 or more & Strong republican  & Protestant         & Southern baptist  &  3\\\\\n",
       "\t 2000 & Married       & 53 & White & \\$25000 or more & Not str democrat   & Protestant         & Other             &  2\\\\\n",
       "\t 2000 & Married       & 52 & White & \\$25000 or more & Ind,near rep       & None               & Not applicable    & NA\\\\\n",
       "\t 2000 & Married       & 52 & White & \\$25000 or more & Strong democrat    & Protestant         & Southern baptist  &  1\\\\\n",
       "\t 2000 & Married       & 51 & White & \\$25000 or more & Strong republican  & Protestant         & United methodist  & NA\\\\\n",
       "\t 2000 & Divorced      & 52 & White & \\$25000 or more & Ind,near dem       & None               & Not applicable    &  1\\\\\n",
       "\t 2000 & Married       & 40 & Black & \\$25000 or more & Strong democrat    & Protestant         & Baptist-dk which  &  7\\\\\n",
       "\t 2000 & Widowed       & 77 & White & Not applicable & Strong republican  & Jewish             & Not applicable    & NA\\\\\n",
       "\t 2000 & Never married & 44 & White & \\$25000 or more & Independent        & None               & Not applicable    &  3\\\\\n",
       "\t 2000 & Married       & 40 & White & \\$10000 - 14999 & Not str democrat   & Catholic           & Not applicable    &  3\\\\\n",
       "\t 2000 & Married       & 45 & Black & Not applicable & Independent        & Protestant         & United methodist  & NA\\\\\n",
       "\t 2000 & Married       & 48 & White & \\$25000 or more & Ind,near dem       & Catholic           & Not applicable    &  1\\\\\n",
       "\t 2000 & Married       & 49 & White & Refused        & Strong republican  & Protestant         & United methodist  &  2\\\\\n",
       "\t 2000 & Never married & 19 & White & Not applicable & Independent        & None               & Not applicable    &  2\\\\\n",
       "\t 2000 & Widowed       & 54 & White & \\$25000 or more & Ind,near rep       & Christian          & Not applicable    &  1\\\\\n",
       "\t 2000 & Widowed       & 82 & White & Not applicable & Not str democrat   & Protestant         & Other             &  3\\\\\n",
       "\t 2000 & Widowed       & 83 & White & Not applicable & Strong democrat    & Protestant         & Episcopal         & NA\\\\\n",
       "\t 2000 & Widowed       & 89 & White & Not applicable & Not str democrat   & Protestant         & Other lutheran    &  4\\\\\n",
       "\t 2000 & Widowed       & 88 & White & Not applicable & Strong republican  & Protestant         & Afr meth ep zion  & NA\\\\\n",
       "\t 2000 & Divorced      & 72 & White & Not applicable & Strong democrat    & Protestant         & Southern baptist  &  7\\\\\n",
       "\t 2000 & Widowed       & 82 & White & Not applicable & Independent        & Protestant         & Am bapt ch in usa & NA\\\\\n",
       "\t ⋮ & ⋮ & ⋮ & ⋮ & ⋮ & ⋮ & ⋮ & ⋮ & ⋮\\\\\n",
       "\t 2014 & Divorced      & 38 & White & \\$3000 to 3999  & Not str republican & Protestant & Other            &  1\\\\\n",
       "\t 2014 & Widowed       & 46 & White & \\$25000 or more & Strong democrat    & None       & Not applicable   &  2\\\\\n",
       "\t 2014 & Married       & 49 & White & Not applicable & Ind,near rep       & Protestant & Other            &  6\\\\\n",
       "\t 2014 & Never married & 34 & White & \\$25000 or more & Independent        & Protestant & United methodist &  2\\\\\n",
       "\t 2014 & Married       & 54 & White & Not applicable & Independent        & Protestant & Other            & NA\\\\\n",
       "\t 2014 & Married       & 34 & White & \\$15000 - 19999 & Ind,near dem       & Buddhism   & Not applicable   &  1\\\\\n",
       "\t 2014 & Married       & 69 & White & Not applicable & Ind,near dem       & Jewish     & Not applicable   &  3\\\\\n",
       "\t 2014 & Divorced      & 36 & White & Not applicable & Independent        & None       & Not applicable   &  0\\\\\n",
       "\t 2014 & Married       & 65 & White & \\$25000 or more & Not str democrat   & None       & Not applicable   &  2\\\\\n",
       "\t 2014 & Married       & 48 & White & \\$20000 - 24999 & Strong democrat    & Protestant & Other            &  0\\\\\n",
       "\t 2014 & Married       & 38 & White & \\$10000 - 14999 & Not str democrat   & Protestant & No denomination  &  2\\\\\n",
       "\t 2014 & Never married & 30 & White & \\$4000 to 4999  & Ind,near dem       & None       & Not applicable   &  2\\\\\n",
       "\t 2014 & Married       & 48 & White & \\$8000 to 9999  & Not str republican & Catholic   & Not applicable   &  0\\\\\n",
       "\t 2014 & Divorced      & 49 & White & \\$25000 or more & Ind,near rep       & Other      & Not applicable   &  2\\\\\n",
       "\t 2014 & Married       & 54 & White & \\$25000 or more & Ind,near dem       & Protestant & Other            & NA\\\\\n",
       "\t 2014 & Married       & 49 & White & \\$25000 or more & Not str republican & Catholic   & Not applicable   & NA\\\\\n",
       "\t 2014 & Married       & 53 & White & \\$25000 or more & Not str democrat   & None       & Not applicable   &  0\\\\\n",
       "\t 2014 & Married       & 52 & White & \\$25000 or more & Not str democrat   & None       & Not applicable   &  1\\\\\n",
       "\t 2014 & Widowed       & 82 & White & Not applicable & Strong democrat    & Protestant & Other            &  2\\\\\n",
       "\t 2014 & Married       & 63 & White & Not applicable & Ind,near dem       & No answer  & No answer        &  2\\\\\n",
       "\t 2014 & Divorced      & 54 & White & \\$25000 or more & Ind,near rep       & Catholic   & Not applicable   &  3\\\\\n",
       "\t 2014 & Married       & 62 & White & \\$25000 or more & Ind,near rep       & Protestant & Other            & NA\\\\\n",
       "\t 2014 & Never married & 40 & White & \\$1000 to 2999  & Not str republican & None       & Not applicable   &  2\\\\\n",
       "\t 2014 & Married       & 33 & White & Not applicable & Independent        & Christian  & No denomination  &  0\\\\\n",
       "\t 2014 & Widowed       & 75 & White & Don't know     & Strong republican  & Protestant & Baptist-dk which &  4\\\\\n",
       "\t 2014 & Widowed       & 89 & White & Not applicable & Not str republican & Protestant & United methodist &  3\\\\\n",
       "\t 2014 & Divorced      & 56 & White & \\$25000 or more & Independent        & None       & Not applicable   &  4\\\\\n",
       "\t 2014 & Never married & 24 & White & \\$10000 - 14999 & Ind,near dem       & None       & Not applicable   &  4\\\\\n",
       "\t 2014 & Never married & 27 & White & \\$25000 or more & Not str democrat   & Catholic   & Not applicable   & NA\\\\\n",
       "\t 2014 & Widowed       & 71 & White & \\$20000 - 24999 & Ind,near rep       & Protestant & Other            &  2\\\\\n",
       "\\end{tabular}\n"
      ],
      "text/markdown": [
       "\n",
       "A tibble: 21483 × 9\n",
       "\n",
       "| year &lt;int&gt; | marital &lt;fct&gt; | age &lt;int&gt; | race &lt;fct&gt; | rincome &lt;fct&gt; | partyid &lt;fct&gt; | relig &lt;fct&gt; | denom &lt;fct&gt; | tvhours &lt;int&gt; |\n",
       "|---|---|---|---|---|---|---|---|---|\n",
       "| 2000 | Never married | 26 | White | $8000 to 9999  | Ind,near rep       | Protestant         | Southern baptist  | 12 |\n",
       "| 2000 | Divorced      | 48 | White | $8000 to 9999  | Not str republican | Protestant         | Baptist-dk which  | NA |\n",
       "| 2000 | Widowed       | 67 | White | Not applicable | Independent        | Protestant         | No denomination   |  2 |\n",
       "| 2000 | Never married | 39 | White | Not applicable | Ind,near rep       | Orthodox-christian | Not applicable    |  4 |\n",
       "| 2000 | Divorced      | 25 | White | Not applicable | Not str democrat   | None               | Not applicable    |  1 |\n",
       "| 2000 | Married       | 25 | White | $20000 - 24999 | Strong democrat    | Protestant         | Southern baptist  | NA |\n",
       "| 2000 | Never married | 36 | White | $25000 or more | Not str republican | Christian          | Not applicable    |  3 |\n",
       "| 2000 | Divorced      | 44 | White | $7000 to 7999  | Ind,near dem       | Protestant         | Lutheran-mo synod | NA |\n",
       "| 2000 | Married       | 44 | White | $25000 or more | Not str democrat   | Protestant         | Other             |  0 |\n",
       "| 2000 | Married       | 47 | White | $25000 or more | Strong republican  | Protestant         | Southern baptist  |  3 |\n",
       "| 2000 | Married       | 53 | White | $25000 or more | Not str democrat   | Protestant         | Other             |  2 |\n",
       "| 2000 | Married       | 52 | White | $25000 or more | Ind,near rep       | None               | Not applicable    | NA |\n",
       "| 2000 | Married       | 52 | White | $25000 or more | Strong democrat    | Protestant         | Southern baptist  |  1 |\n",
       "| 2000 | Married       | 51 | White | $25000 or more | Strong republican  | Protestant         | United methodist  | NA |\n",
       "| 2000 | Divorced      | 52 | White | $25000 or more | Ind,near dem       | None               | Not applicable    |  1 |\n",
       "| 2000 | Married       | 40 | Black | $25000 or more | Strong democrat    | Protestant         | Baptist-dk which  |  7 |\n",
       "| 2000 | Widowed       | 77 | White | Not applicable | Strong republican  | Jewish             | Not applicable    | NA |\n",
       "| 2000 | Never married | 44 | White | $25000 or more | Independent        | None               | Not applicable    |  3 |\n",
       "| 2000 | Married       | 40 | White | $10000 - 14999 | Not str democrat   | Catholic           | Not applicable    |  3 |\n",
       "| 2000 | Married       | 45 | Black | Not applicable | Independent        | Protestant         | United methodist  | NA |\n",
       "| 2000 | Married       | 48 | White | $25000 or more | Ind,near dem       | Catholic           | Not applicable    |  1 |\n",
       "| 2000 | Married       | 49 | White | Refused        | Strong republican  | Protestant         | United methodist  |  2 |\n",
       "| 2000 | Never married | 19 | White | Not applicable | Independent        | None               | Not applicable    |  2 |\n",
       "| 2000 | Widowed       | 54 | White | $25000 or more | Ind,near rep       | Christian          | Not applicable    |  1 |\n",
       "| 2000 | Widowed       | 82 | White | Not applicable | Not str democrat   | Protestant         | Other             |  3 |\n",
       "| 2000 | Widowed       | 83 | White | Not applicable | Strong democrat    | Protestant         | Episcopal         | NA |\n",
       "| 2000 | Widowed       | 89 | White | Not applicable | Not str democrat   | Protestant         | Other lutheran    |  4 |\n",
       "| 2000 | Widowed       | 88 | White | Not applicable | Strong republican  | Protestant         | Afr meth ep zion  | NA |\n",
       "| 2000 | Divorced      | 72 | White | Not applicable | Strong democrat    | Protestant         | Southern baptist  |  7 |\n",
       "| 2000 | Widowed       | 82 | White | Not applicable | Independent        | Protestant         | Am bapt ch in usa | NA |\n",
       "| ⋮ | ⋮ | ⋮ | ⋮ | ⋮ | ⋮ | ⋮ | ⋮ | ⋮ |\n",
       "| 2014 | Divorced      | 38 | White | $3000 to 3999  | Not str republican | Protestant | Other            |  1 |\n",
       "| 2014 | Widowed       | 46 | White | $25000 or more | Strong democrat    | None       | Not applicable   |  2 |\n",
       "| 2014 | Married       | 49 | White | Not applicable | Ind,near rep       | Protestant | Other            |  6 |\n",
       "| 2014 | Never married | 34 | White | $25000 or more | Independent        | Protestant | United methodist |  2 |\n",
       "| 2014 | Married       | 54 | White | Not applicable | Independent        | Protestant | Other            | NA |\n",
       "| 2014 | Married       | 34 | White | $15000 - 19999 | Ind,near dem       | Buddhism   | Not applicable   |  1 |\n",
       "| 2014 | Married       | 69 | White | Not applicable | Ind,near dem       | Jewish     | Not applicable   |  3 |\n",
       "| 2014 | Divorced      | 36 | White | Not applicable | Independent        | None       | Not applicable   |  0 |\n",
       "| 2014 | Married       | 65 | White | $25000 or more | Not str democrat   | None       | Not applicable   |  2 |\n",
       "| 2014 | Married       | 48 | White | $20000 - 24999 | Strong democrat    | Protestant | Other            |  0 |\n",
       "| 2014 | Married       | 38 | White | $10000 - 14999 | Not str democrat   | Protestant | No denomination  |  2 |\n",
       "| 2014 | Never married | 30 | White | $4000 to 4999  | Ind,near dem       | None       | Not applicable   |  2 |\n",
       "| 2014 | Married       | 48 | White | $8000 to 9999  | Not str republican | Catholic   | Not applicable   |  0 |\n",
       "| 2014 | Divorced      | 49 | White | $25000 or more | Ind,near rep       | Other      | Not applicable   |  2 |\n",
       "| 2014 | Married       | 54 | White | $25000 or more | Ind,near dem       | Protestant | Other            | NA |\n",
       "| 2014 | Married       | 49 | White | $25000 or more | Not str republican | Catholic   | Not applicable   | NA |\n",
       "| 2014 | Married       | 53 | White | $25000 or more | Not str democrat   | None       | Not applicable   |  0 |\n",
       "| 2014 | Married       | 52 | White | $25000 or more | Not str democrat   | None       | Not applicable   |  1 |\n",
       "| 2014 | Widowed       | 82 | White | Not applicable | Strong democrat    | Protestant | Other            |  2 |\n",
       "| 2014 | Married       | 63 | White | Not applicable | Ind,near dem       | No answer  | No answer        |  2 |\n",
       "| 2014 | Divorced      | 54 | White | $25000 or more | Ind,near rep       | Catholic   | Not applicable   |  3 |\n",
       "| 2014 | Married       | 62 | White | $25000 or more | Ind,near rep       | Protestant | Other            | NA |\n",
       "| 2014 | Never married | 40 | White | $1000 to 2999  | Not str republican | None       | Not applicable   |  2 |\n",
       "| 2014 | Married       | 33 | White | Not applicable | Independent        | Christian  | No denomination  |  0 |\n",
       "| 2014 | Widowed       | 75 | White | Don't know     | Strong republican  | Protestant | Baptist-dk which |  4 |\n",
       "| 2014 | Widowed       | 89 | White | Not applicable | Not str republican | Protestant | United methodist |  3 |\n",
       "| 2014 | Divorced      | 56 | White | $25000 or more | Independent        | None       | Not applicable   |  4 |\n",
       "| 2014 | Never married | 24 | White | $10000 - 14999 | Ind,near dem       | None       | Not applicable   |  4 |\n",
       "| 2014 | Never married | 27 | White | $25000 or more | Not str democrat   | Catholic   | Not applicable   | NA |\n",
       "| 2014 | Widowed       | 71 | White | $20000 - 24999 | Ind,near rep       | Protestant | Other            |  2 |\n",
       "\n"
      ],
      "text/plain": [
       "      year marital       age race  rincome        partyid           \n",
       "1     2000 Never married 26  White $8000 to 9999  Ind,near rep      \n",
       "2     2000 Divorced      48  White $8000 to 9999  Not str republican\n",
       "3     2000 Widowed       67  White Not applicable Independent       \n",
       "4     2000 Never married 39  White Not applicable Ind,near rep      \n",
       "5     2000 Divorced      25  White Not applicable Not str democrat  \n",
       "6     2000 Married       25  White $20000 - 24999 Strong democrat   \n",
       "7     2000 Never married 36  White $25000 or more Not str republican\n",
       "8     2000 Divorced      44  White $7000 to 7999  Ind,near dem      \n",
       "9     2000 Married       44  White $25000 or more Not str democrat  \n",
       "10    2000 Married       47  White $25000 or more Strong republican \n",
       "11    2000 Married       53  White $25000 or more Not str democrat  \n",
       "12    2000 Married       52  White $25000 or more Ind,near rep      \n",
       "13    2000 Married       52  White $25000 or more Strong democrat   \n",
       "14    2000 Married       51  White $25000 or more Strong republican \n",
       "15    2000 Divorced      52  White $25000 or more Ind,near dem      \n",
       "16    2000 Married       40  Black $25000 or more Strong democrat   \n",
       "17    2000 Widowed       77  White Not applicable Strong republican \n",
       "18    2000 Never married 44  White $25000 or more Independent       \n",
       "19    2000 Married       40  White $10000 - 14999 Not str democrat  \n",
       "20    2000 Married       45  Black Not applicable Independent       \n",
       "21    2000 Married       48  White $25000 or more Ind,near dem      \n",
       "22    2000 Married       49  White Refused        Strong republican \n",
       "23    2000 Never married 19  White Not applicable Independent       \n",
       "24    2000 Widowed       54  White $25000 or more Ind,near rep      \n",
       "25    2000 Widowed       82  White Not applicable Not str democrat  \n",
       "26    2000 Widowed       83  White Not applicable Strong democrat   \n",
       "27    2000 Widowed       89  White Not applicable Not str democrat  \n",
       "28    2000 Widowed       88  White Not applicable Strong republican \n",
       "29    2000 Divorced      72  White Not applicable Strong democrat   \n",
       "30    2000 Widowed       82  White Not applicable Independent       \n",
       "⋮     ⋮    ⋮             ⋮   ⋮     ⋮              ⋮                 \n",
       "21454 2014 Divorced      38  White $3000 to 3999  Not str republican\n",
       "21455 2014 Widowed       46  White $25000 or more Strong democrat   \n",
       "21456 2014 Married       49  White Not applicable Ind,near rep      \n",
       "21457 2014 Never married 34  White $25000 or more Independent       \n",
       "21458 2014 Married       54  White Not applicable Independent       \n",
       "21459 2014 Married       34  White $15000 - 19999 Ind,near dem      \n",
       "21460 2014 Married       69  White Not applicable Ind,near dem      \n",
       "21461 2014 Divorced      36  White Not applicable Independent       \n",
       "21462 2014 Married       65  White $25000 or more Not str democrat  \n",
       "21463 2014 Married       48  White $20000 - 24999 Strong democrat   \n",
       "21464 2014 Married       38  White $10000 - 14999 Not str democrat  \n",
       "21465 2014 Never married 30  White $4000 to 4999  Ind,near dem      \n",
       "21466 2014 Married       48  White $8000 to 9999  Not str republican\n",
       "21467 2014 Divorced      49  White $25000 or more Ind,near rep      \n",
       "21468 2014 Married       54  White $25000 or more Ind,near dem      \n",
       "21469 2014 Married       49  White $25000 or more Not str republican\n",
       "21470 2014 Married       53  White $25000 or more Not str democrat  \n",
       "21471 2014 Married       52  White $25000 or more Not str democrat  \n",
       "21472 2014 Widowed       82  White Not applicable Strong democrat   \n",
       "21473 2014 Married       63  White Not applicable Ind,near dem      \n",
       "21474 2014 Divorced      54  White $25000 or more Ind,near rep      \n",
       "21475 2014 Married       62  White $25000 or more Ind,near rep      \n",
       "21476 2014 Never married 40  White $1000 to 2999  Not str republican\n",
       "21477 2014 Married       33  White Not applicable Independent       \n",
       "21478 2014 Widowed       75  White Don't know     Strong republican \n",
       "21479 2014 Widowed       89  White Not applicable Not str republican\n",
       "21480 2014 Divorced      56  White $25000 or more Independent       \n",
       "21481 2014 Never married 24  White $10000 - 14999 Ind,near dem      \n",
       "21482 2014 Never married 27  White $25000 or more Not str democrat  \n",
       "21483 2014 Widowed       71  White $20000 - 24999 Ind,near rep      \n",
       "      relig              denom             tvhours\n",
       "1     Protestant         Southern baptist  12     \n",
       "2     Protestant         Baptist-dk which  NA     \n",
       "3     Protestant         No denomination    2     \n",
       "4     Orthodox-christian Not applicable     4     \n",
       "5     None               Not applicable     1     \n",
       "6     Protestant         Southern baptist  NA     \n",
       "7     Christian          Not applicable     3     \n",
       "8     Protestant         Lutheran-mo synod NA     \n",
       "9     Protestant         Other              0     \n",
       "10    Protestant         Southern baptist   3     \n",
       "11    Protestant         Other              2     \n",
       "12    None               Not applicable    NA     \n",
       "13    Protestant         Southern baptist   1     \n",
       "14    Protestant         United methodist  NA     \n",
       "15    None               Not applicable     1     \n",
       "16    Protestant         Baptist-dk which   7     \n",
       "17    Jewish             Not applicable    NA     \n",
       "18    None               Not applicable     3     \n",
       "19    Catholic           Not applicable     3     \n",
       "20    Protestant         United methodist  NA     \n",
       "21    Catholic           Not applicable     1     \n",
       "22    Protestant         United methodist   2     \n",
       "23    None               Not applicable     2     \n",
       "24    Christian          Not applicable     1     \n",
       "25    Protestant         Other              3     \n",
       "26    Protestant         Episcopal         NA     \n",
       "27    Protestant         Other lutheran     4     \n",
       "28    Protestant         Afr meth ep zion  NA     \n",
       "29    Protestant         Southern baptist   7     \n",
       "30    Protestant         Am bapt ch in usa NA     \n",
       "⋮     ⋮                  ⋮                 ⋮      \n",
       "21454 Protestant         Other              1     \n",
       "21455 None               Not applicable     2     \n",
       "21456 Protestant         Other              6     \n",
       "21457 Protestant         United methodist   2     \n",
       "21458 Protestant         Other             NA     \n",
       "21459 Buddhism           Not applicable     1     \n",
       "21460 Jewish             Not applicable     3     \n",
       "21461 None               Not applicable     0     \n",
       "21462 None               Not applicable     2     \n",
       "21463 Protestant         Other              0     \n",
       "21464 Protestant         No denomination    2     \n",
       "21465 None               Not applicable     2     \n",
       "21466 Catholic           Not applicable     0     \n",
       "21467 Other              Not applicable     2     \n",
       "21468 Protestant         Other             NA     \n",
       "21469 Catholic           Not applicable    NA     \n",
       "21470 None               Not applicable     0     \n",
       "21471 None               Not applicable     1     \n",
       "21472 Protestant         Other              2     \n",
       "21473 No answer          No answer          2     \n",
       "21474 Catholic           Not applicable     3     \n",
       "21475 Protestant         Other             NA     \n",
       "21476 None               Not applicable     2     \n",
       "21477 Christian          No denomination    0     \n",
       "21478 Protestant         Baptist-dk which   4     \n",
       "21479 Protestant         United methodist   3     \n",
       "21480 None               Not applicable     4     \n",
       "21481 None               Not applicable     4     \n",
       "21482 Catholic           Not applicable    NA     \n",
       "21483 Protestant         Other              2     "
      ]
     },
     "metadata": {},
     "output_type": "display_data"
    }
   ],
   "source": [
    "gss_cat"
   ]
  },
  {
   "attachments": {},
   "cell_type": "markdown",
   "metadata": {},
   "source": [
    "# Homework Assignments"
   ]
  },
  {
   "attachments": {},
   "cell_type": "markdown",
   "metadata": {},
   "source": [
    "## 16.3.1 Assignments"
   ]
  },
  {
   "attachments": {},
   "cell_type": "markdown",
   "metadata": {},
   "source": [
    "1. Explore the distribution of rincome (reported income). What makes the default bar chart hard to understand? How could you improve the plot?"
   ]
  },
  {
   "attachments": {},
   "cell_type": "markdown",
   "metadata": {},
   "source": [
    "Answer: The default bar chart has all of the value names for rincome at the bottom and makes it hard to see each individual one. You could sort them or change the orientation of the labels to make it easier to read. "
   ]
  },
  {
   "cell_type": "code",
   "execution_count": 6,
   "metadata": {
    "vscode": {
     "languageId": "r"
    }
   },
   "outputs": [
    {
     "data": {
      "image/png": "[encoded data removed]",
      "text/plain": [
       "plot without title"
      ]
     },
     "metadata": {
      "image/png": {
       "height": 420,
       "width": 420
      }
     },
     "output_type": "display_data"
    }
   ],
   "source": [
    "ggplot(gss_cat, aes(x = rincome)) +\n",
    "    geom_bar()"
   ]
  },
  {
   "attachments": {},
   "cell_type": "markdown",
   "metadata": {},
   "source": [
    "2. What is the most common relig in this survey? What’s the most common partyid?"
   ]
  },
  {
   "attachments": {},
   "cell_type": "markdown",
   "metadata": {},
   "source": [
    "Answer: The most common relig is Protestant. The most common partyid is Independent."
   ]
  },
  {
   "cell_type": "code",
   "execution_count": 39,
   "metadata": {
    "vscode": {
     "languageId": "r"
    }
   },
   "outputs": [
    {
     "data": {
      "text/html": [
       "<table class=\"dataframe\">\n",
       "<caption>A tibble: 15 × 2</caption>\n",
       "<thead>\n",
       "\t<tr><th scope=col>relig</th><th scope=col>n</th></tr>\n",
       "\t<tr><th scope=col>&lt;fct&gt;</th><th scope=col>&lt;int&gt;</th></tr>\n",
       "</thead>\n",
       "<tbody>\n",
       "\t<tr><td>Protestant             </td><td>10846</td></tr>\n",
       "\t<tr><td>Catholic               </td><td> 5124</td></tr>\n",
       "\t<tr><td>None                   </td><td> 3523</td></tr>\n",
       "\t<tr><td>Christian              </td><td>  689</td></tr>\n",
       "\t<tr><td>Jewish                 </td><td>  388</td></tr>\n",
       "\t<tr><td>Other                  </td><td>  224</td></tr>\n",
       "\t<tr><td>Buddhism               </td><td>  147</td></tr>\n",
       "\t<tr><td>Inter-nondenominational</td><td>  109</td></tr>\n",
       "\t<tr><td>Moslem/islam           </td><td>  104</td></tr>\n",
       "\t<tr><td>Orthodox-christian     </td><td>   95</td></tr>\n",
       "\t<tr><td>No answer              </td><td>   93</td></tr>\n",
       "\t<tr><td>Hinduism               </td><td>   71</td></tr>\n",
       "\t<tr><td>Other eastern          </td><td>   32</td></tr>\n",
       "\t<tr><td>Native american        </td><td>   23</td></tr>\n",
       "\t<tr><td>Don't know             </td><td>   15</td></tr>\n",
       "</tbody>\n",
       "</table>\n"
      ],
      "text/latex": [
       "A tibble: 15 × 2\n",
       "\\begin{tabular}{ll}\n",
       " relig & n\\\\\n",
       " <fct> & <int>\\\\\n",
       "\\hline\n",
       "\t Protestant              & 10846\\\\\n",
       "\t Catholic                &  5124\\\\\n",
       "\t None                    &  3523\\\\\n",
       "\t Christian               &   689\\\\\n",
       "\t Jewish                  &   388\\\\\n",
       "\t Other                   &   224\\\\\n",
       "\t Buddhism                &   147\\\\\n",
       "\t Inter-nondenominational &   109\\\\\n",
       "\t Moslem/islam            &   104\\\\\n",
       "\t Orthodox-christian      &    95\\\\\n",
       "\t No answer               &    93\\\\\n",
       "\t Hinduism                &    71\\\\\n",
       "\t Other eastern           &    32\\\\\n",
       "\t Native american         &    23\\\\\n",
       "\t Don't know              &    15\\\\\n",
       "\\end{tabular}\n"
      ],
      "text/markdown": [
       "\n",
       "A tibble: 15 × 2\n",
       "\n",
       "| relig &lt;fct&gt; | n &lt;int&gt; |\n",
       "|---|---|\n",
       "| Protestant              | 10846 |\n",
       "| Catholic                |  5124 |\n",
       "| None                    |  3523 |\n",
       "| Christian               |   689 |\n",
       "| Jewish                  |   388 |\n",
       "| Other                   |   224 |\n",
       "| Buddhism                |   147 |\n",
       "| Inter-nondenominational |   109 |\n",
       "| Moslem/islam            |   104 |\n",
       "| Orthodox-christian      |    95 |\n",
       "| No answer               |    93 |\n",
       "| Hinduism                |    71 |\n",
       "| Other eastern           |    32 |\n",
       "| Native american         |    23 |\n",
       "| Don't know              |    15 |\n",
       "\n"
      ],
      "text/plain": [
       "   relig                   n    \n",
       "1  Protestant              10846\n",
       "2  Catholic                 5124\n",
       "3  None                     3523\n",
       "4  Christian                 689\n",
       "5  Jewish                    388\n",
       "6  Other                     224\n",
       "7  Buddhism                  147\n",
       "8  Inter-nondenominational   109\n",
       "9  Moslem/islam              104\n",
       "10 Orthodox-christian         95\n",
       "11 No answer                  93\n",
       "12 Hinduism                   71\n",
       "13 Other eastern              32\n",
       "14 Native american            23\n",
       "15 Don't know                 15"
      ]
     },
     "metadata": {},
     "output_type": "display_data"
    }
   ],
   "source": [
    "gss_cat |>\n",
    "    count(relig) |>\n",
    "    arrange(desc(n))"
   ]
  },
  {
   "cell_type": "code",
   "execution_count": 40,
   "metadata": {
    "vscode": {
     "languageId": "r"
    }
   },
   "outputs": [
    {
     "data": {
      "text/html": [
       "<table class=\"dataframe\">\n",
       "<caption>A tibble: 10 × 2</caption>\n",
       "<thead>\n",
       "\t<tr><th scope=col>partyid</th><th scope=col>n</th></tr>\n",
       "\t<tr><th scope=col>&lt;fct&gt;</th><th scope=col>&lt;int&gt;</th></tr>\n",
       "</thead>\n",
       "<tbody>\n",
       "\t<tr><td>Independent       </td><td>4119</td></tr>\n",
       "\t<tr><td>Not str democrat  </td><td>3690</td></tr>\n",
       "\t<tr><td>Strong democrat   </td><td>3490</td></tr>\n",
       "\t<tr><td>Not str republican</td><td>3032</td></tr>\n",
       "\t<tr><td>Ind,near dem      </td><td>2499</td></tr>\n",
       "\t<tr><td>Strong republican </td><td>2314</td></tr>\n",
       "\t<tr><td>Ind,near rep      </td><td>1791</td></tr>\n",
       "\t<tr><td>Other party       </td><td> 393</td></tr>\n",
       "\t<tr><td>No answer         </td><td> 154</td></tr>\n",
       "\t<tr><td>Don't know        </td><td>   1</td></tr>\n",
       "</tbody>\n",
       "</table>\n"
      ],
      "text/latex": [
       "A tibble: 10 × 2\n",
       "\\begin{tabular}{ll}\n",
       " partyid & n\\\\\n",
       " <fct> & <int>\\\\\n",
       "\\hline\n",
       "\t Independent        & 4119\\\\\n",
       "\t Not str democrat   & 3690\\\\\n",
       "\t Strong democrat    & 3490\\\\\n",
       "\t Not str republican & 3032\\\\\n",
       "\t Ind,near dem       & 2499\\\\\n",
       "\t Strong republican  & 2314\\\\\n",
       "\t Ind,near rep       & 1791\\\\\n",
       "\t Other party        &  393\\\\\n",
       "\t No answer          &  154\\\\\n",
       "\t Don't know         &    1\\\\\n",
       "\\end{tabular}\n"
      ],
      "text/markdown": [
       "\n",
       "A tibble: 10 × 2\n",
       "\n",
       "| partyid &lt;fct&gt; | n &lt;int&gt; |\n",
       "|---|---|\n",
       "| Independent        | 4119 |\n",
       "| Not str democrat   | 3690 |\n",
       "| Strong democrat    | 3490 |\n",
       "| Not str republican | 3032 |\n",
       "| Ind,near dem       | 2499 |\n",
       "| Strong republican  | 2314 |\n",
       "| Ind,near rep       | 1791 |\n",
       "| Other party        |  393 |\n",
       "| No answer          |  154 |\n",
       "| Don't know         |    1 |\n",
       "\n"
      ],
      "text/plain": [
       "   partyid            n   \n",
       "1  Independent        4119\n",
       "2  Not str democrat   3690\n",
       "3  Strong democrat    3490\n",
       "4  Not str republican 3032\n",
       "5  Ind,near dem       2499\n",
       "6  Strong republican  2314\n",
       "7  Ind,near rep       1791\n",
       "8  Other party         393\n",
       "9  No answer           154\n",
       "10 Don't know            1"
      ]
     },
     "metadata": {},
     "output_type": "display_data"
    }
   ],
   "source": [
    "gss_cat |>\n",
    "    count(partyid) |>\n",
    "    arrange(desc(n))"
   ]
  },
  {
   "attachments": {},
   "cell_type": "markdown",
   "metadata": {},
   "source": [
    "3. Which relig does denom (denomination) apply to? How can you find out with a table? How can you find out with a visualization?"
   ]
  },
  {
   "attachments": {},
   "cell_type": "markdown",
   "metadata": {},
   "source": [
    "Answer: denom is applied to the Protestant relig. You can see that denom is only available for that relig otherwise it's not applicable or no answer. With a plot, the only values where denom changes is in the Protestant column."
   ]
  },
  {
   "cell_type": "code",
   "execution_count": 38,
   "metadata": {
    "vscode": {
     "languageId": "r"
    }
   },
   "outputs": [
    {
     "data": {
      "text/html": [
       "<table class=\"dataframe\">\n",
       "<caption>A tibble: 47 × 3</caption>\n",
       "<thead>\n",
       "\t<tr><th scope=col>relig</th><th scope=col>denom</th><th scope=col>n</th></tr>\n",
       "\t<tr><th scope=col>&lt;fct&gt;</th><th scope=col>&lt;fct&gt;</th><th scope=col>&lt;int&gt;</th></tr>\n",
       "</thead>\n",
       "<tbody>\n",
       "\t<tr><td>No answer              </td><td>No answer           </td><td>  93</td></tr>\n",
       "\t<tr><td>Don't know             </td><td>Not applicable      </td><td>  15</td></tr>\n",
       "\t<tr><td>Inter-nondenominational</td><td>Not applicable      </td><td> 109</td></tr>\n",
       "\t<tr><td>Native american        </td><td>Not applicable      </td><td>  23</td></tr>\n",
       "\t<tr><td>Christian              </td><td>No answer           </td><td>   2</td></tr>\n",
       "\t<tr><td>Christian              </td><td>Don't know          </td><td>  11</td></tr>\n",
       "\t<tr><td>Christian              </td><td>No denomination     </td><td> 452</td></tr>\n",
       "\t<tr><td>Christian              </td><td>Not applicable      </td><td> 224</td></tr>\n",
       "\t<tr><td>Orthodox-christian     </td><td>Not applicable      </td><td>  95</td></tr>\n",
       "\t<tr><td>Moslem/islam           </td><td>Not applicable      </td><td> 104</td></tr>\n",
       "\t<tr><td>Other eastern          </td><td>Not applicable      </td><td>  32</td></tr>\n",
       "\t<tr><td>Hinduism               </td><td>Not applicable      </td><td>  71</td></tr>\n",
       "\t<tr><td>Buddhism               </td><td>Not applicable      </td><td> 147</td></tr>\n",
       "\t<tr><td>Other                  </td><td>No denomination     </td><td>   7</td></tr>\n",
       "\t<tr><td>Other                  </td><td>Not applicable      </td><td> 217</td></tr>\n",
       "\t<tr><td>None                   </td><td>Not applicable      </td><td>3523</td></tr>\n",
       "\t<tr><td>Jewish                 </td><td>Not applicable      </td><td> 388</td></tr>\n",
       "\t<tr><td>Catholic               </td><td>Not applicable      </td><td>5124</td></tr>\n",
       "\t<tr><td>Protestant             </td><td>No answer           </td><td>  22</td></tr>\n",
       "\t<tr><td>Protestant             </td><td>Don't know          </td><td>  41</td></tr>\n",
       "\t<tr><td>Protestant             </td><td>No denomination     </td><td>1224</td></tr>\n",
       "\t<tr><td>Protestant             </td><td>Other               </td><td>2534</td></tr>\n",
       "\t<tr><td>Protestant             </td><td>Episcopal           </td><td> 397</td></tr>\n",
       "\t<tr><td>Protestant             </td><td>Presbyterian-dk wh  </td><td> 244</td></tr>\n",
       "\t<tr><td>Protestant             </td><td>Presbyterian, merged</td><td>  67</td></tr>\n",
       "\t<tr><td>Protestant             </td><td>Other presbyterian  </td><td>  47</td></tr>\n",
       "\t<tr><td>Protestant             </td><td>United pres ch in us</td><td> 110</td></tr>\n",
       "\t<tr><td>Protestant             </td><td>Presbyterian c in us</td><td> 104</td></tr>\n",
       "\t<tr><td>Protestant             </td><td>Lutheran-dk which   </td><td> 267</td></tr>\n",
       "\t<tr><td>Protestant             </td><td>Evangelical luth    </td><td> 122</td></tr>\n",
       "\t<tr><td>Protestant             </td><td>Other lutheran      </td><td>  30</td></tr>\n",
       "\t<tr><td>Protestant             </td><td>Wi evan luth synod  </td><td>  71</td></tr>\n",
       "\t<tr><td>Protestant             </td><td>Lutheran-mo synod   </td><td> 212</td></tr>\n",
       "\t<tr><td>Protestant             </td><td>Luth ch in america  </td><td>  71</td></tr>\n",
       "\t<tr><td>Protestant             </td><td>Am lutheran         </td><td> 146</td></tr>\n",
       "\t<tr><td>Protestant             </td><td>Methodist-dk which  </td><td> 239</td></tr>\n",
       "\t<tr><td>Protestant             </td><td>Other methodist     </td><td>  33</td></tr>\n",
       "\t<tr><td>Protestant             </td><td>United methodist    </td><td>1067</td></tr>\n",
       "\t<tr><td>Protestant             </td><td>Afr meth ep zion    </td><td>  32</td></tr>\n",
       "\t<tr><td>Protestant             </td><td>Afr meth episcopal  </td><td>  77</td></tr>\n",
       "\t<tr><td>Protestant             </td><td>Baptist-dk which    </td><td>1457</td></tr>\n",
       "\t<tr><td>Protestant             </td><td>Other baptists      </td><td> 213</td></tr>\n",
       "\t<tr><td>Protestant             </td><td>Southern baptist    </td><td>1536</td></tr>\n",
       "\t<tr><td>Protestant             </td><td>Nat bapt conv usa   </td><td>  40</td></tr>\n",
       "\t<tr><td>Protestant             </td><td>Nat bapt conv of am </td><td>  76</td></tr>\n",
       "\t<tr><td>Protestant             </td><td>Am bapt ch in usa   </td><td> 130</td></tr>\n",
       "\t<tr><td>Protestant             </td><td>Am baptist asso     </td><td> 237</td></tr>\n",
       "</tbody>\n",
       "</table>\n"
      ],
      "text/latex": [
       "A tibble: 47 × 3\n",
       "\\begin{tabular}{lll}\n",
       " relig & denom & n\\\\\n",
       " <fct> & <fct> & <int>\\\\\n",
       "\\hline\n",
       "\t No answer               & No answer            &   93\\\\\n",
       "\t Don't know              & Not applicable       &   15\\\\\n",
       "\t Inter-nondenominational & Not applicable       &  109\\\\\n",
       "\t Native american         & Not applicable       &   23\\\\\n",
       "\t Christian               & No answer            &    2\\\\\n",
       "\t Christian               & Don't know           &   11\\\\\n",
       "\t Christian               & No denomination      &  452\\\\\n",
       "\t Christian               & Not applicable       &  224\\\\\n",
       "\t Orthodox-christian      & Not applicable       &   95\\\\\n",
       "\t Moslem/islam            & Not applicable       &  104\\\\\n",
       "\t Other eastern           & Not applicable       &   32\\\\\n",
       "\t Hinduism                & Not applicable       &   71\\\\\n",
       "\t Buddhism                & Not applicable       &  147\\\\\n",
       "\t Other                   & No denomination      &    7\\\\\n",
       "\t Other                   & Not applicable       &  217\\\\\n",
       "\t None                    & Not applicable       & 3523\\\\\n",
       "\t Jewish                  & Not applicable       &  388\\\\\n",
       "\t Catholic                & Not applicable       & 5124\\\\\n",
       "\t Protestant              & No answer            &   22\\\\\n",
       "\t Protestant              & Don't know           &   41\\\\\n",
       "\t Protestant              & No denomination      & 1224\\\\\n",
       "\t Protestant              & Other                & 2534\\\\\n",
       "\t Protestant              & Episcopal            &  397\\\\\n",
       "\t Protestant              & Presbyterian-dk wh   &  244\\\\\n",
       "\t Protestant              & Presbyterian, merged &   67\\\\\n",
       "\t Protestant              & Other presbyterian   &   47\\\\\n",
       "\t Protestant              & United pres ch in us &  110\\\\\n",
       "\t Protestant              & Presbyterian c in us &  104\\\\\n",
       "\t Protestant              & Lutheran-dk which    &  267\\\\\n",
       "\t Protestant              & Evangelical luth     &  122\\\\\n",
       "\t Protestant              & Other lutheran       &   30\\\\\n",
       "\t Protestant              & Wi evan luth synod   &   71\\\\\n",
       "\t Protestant              & Lutheran-mo synod    &  212\\\\\n",
       "\t Protestant              & Luth ch in america   &   71\\\\\n",
       "\t Protestant              & Am lutheran          &  146\\\\\n",
       "\t Protestant              & Methodist-dk which   &  239\\\\\n",
       "\t Protestant              & Other methodist      &   33\\\\\n",
       "\t Protestant              & United methodist     & 1067\\\\\n",
       "\t Protestant              & Afr meth ep zion     &   32\\\\\n",
       "\t Protestant              & Afr meth episcopal   &   77\\\\\n",
       "\t Protestant              & Baptist-dk which     & 1457\\\\\n",
       "\t Protestant              & Other baptists       &  213\\\\\n",
       "\t Protestant              & Southern baptist     & 1536\\\\\n",
       "\t Protestant              & Nat bapt conv usa    &   40\\\\\n",
       "\t Protestant              & Nat bapt conv of am  &   76\\\\\n",
       "\t Protestant              & Am bapt ch in usa    &  130\\\\\n",
       "\t Protestant              & Am baptist asso      &  237\\\\\n",
       "\\end{tabular}\n"
      ],
      "text/markdown": [
       "\n",
       "A tibble: 47 × 3\n",
       "\n",
       "| relig &lt;fct&gt; | denom &lt;fct&gt; | n &lt;int&gt; |\n",
       "|---|---|---|\n",
       "| No answer               | No answer            |   93 |\n",
       "| Don't know              | Not applicable       |   15 |\n",
       "| Inter-nondenominational | Not applicable       |  109 |\n",
       "| Native american         | Not applicable       |   23 |\n",
       "| Christian               | No answer            |    2 |\n",
       "| Christian               | Don't know           |   11 |\n",
       "| Christian               | No denomination      |  452 |\n",
       "| Christian               | Not applicable       |  224 |\n",
       "| Orthodox-christian      | Not applicable       |   95 |\n",
       "| Moslem/islam            | Not applicable       |  104 |\n",
       "| Other eastern           | Not applicable       |   32 |\n",
       "| Hinduism                | Not applicable       |   71 |\n",
       "| Buddhism                | Not applicable       |  147 |\n",
       "| Other                   | No denomination      |    7 |\n",
       "| Other                   | Not applicable       |  217 |\n",
       "| None                    | Not applicable       | 3523 |\n",
       "| Jewish                  | Not applicable       |  388 |\n",
       "| Catholic                | Not applicable       | 5124 |\n",
       "| Protestant              | No answer            |   22 |\n",
       "| Protestant              | Don't know           |   41 |\n",
       "| Protestant              | No denomination      | 1224 |\n",
       "| Protestant              | Other                | 2534 |\n",
       "| Protestant              | Episcopal            |  397 |\n",
       "| Protestant              | Presbyterian-dk wh   |  244 |\n",
       "| Protestant              | Presbyterian, merged |   67 |\n",
       "| Protestant              | Other presbyterian   |   47 |\n",
       "| Protestant              | United pres ch in us |  110 |\n",
       "| Protestant              | Presbyterian c in us |  104 |\n",
       "| Protestant              | Lutheran-dk which    |  267 |\n",
       "| Protestant              | Evangelical luth     |  122 |\n",
       "| Protestant              | Other lutheran       |   30 |\n",
       "| Protestant              | Wi evan luth synod   |   71 |\n",
       "| Protestant              | Lutheran-mo synod    |  212 |\n",
       "| Protestant              | Luth ch in america   |   71 |\n",
       "| Protestant              | Am lutheran          |  146 |\n",
       "| Protestant              | Methodist-dk which   |  239 |\n",
       "| Protestant              | Other methodist      |   33 |\n",
       "| Protestant              | United methodist     | 1067 |\n",
       "| Protestant              | Afr meth ep zion     |   32 |\n",
       "| Protestant              | Afr meth episcopal   |   77 |\n",
       "| Protestant              | Baptist-dk which     | 1457 |\n",
       "| Protestant              | Other baptists       |  213 |\n",
       "| Protestant              | Southern baptist     | 1536 |\n",
       "| Protestant              | Nat bapt conv usa    |   40 |\n",
       "| Protestant              | Nat bapt conv of am  |   76 |\n",
       "| Protestant              | Am bapt ch in usa    |  130 |\n",
       "| Protestant              | Am baptist asso      |  237 |\n",
       "\n"
      ],
      "text/plain": [
       "   relig                   denom                n   \n",
       "1  No answer               No answer              93\n",
       "2  Don't know              Not applicable         15\n",
       "3  Inter-nondenominational Not applicable        109\n",
       "4  Native american         Not applicable         23\n",
       "5  Christian               No answer               2\n",
       "6  Christian               Don't know             11\n",
       "7  Christian               No denomination       452\n",
       "8  Christian               Not applicable        224\n",
       "9  Orthodox-christian      Not applicable         95\n",
       "10 Moslem/islam            Not applicable        104\n",
       "11 Other eastern           Not applicable         32\n",
       "12 Hinduism                Not applicable         71\n",
       "13 Buddhism                Not applicable        147\n",
       "14 Other                   No denomination         7\n",
       "15 Other                   Not applicable        217\n",
       "16 None                    Not applicable       3523\n",
       "17 Jewish                  Not applicable        388\n",
       "18 Catholic                Not applicable       5124\n",
       "19 Protestant              No answer              22\n",
       "20 Protestant              Don't know             41\n",
       "21 Protestant              No denomination      1224\n",
       "22 Protestant              Other                2534\n",
       "23 Protestant              Episcopal             397\n",
       "24 Protestant              Presbyterian-dk wh    244\n",
       "25 Protestant              Presbyterian, merged   67\n",
       "26 Protestant              Other presbyterian     47\n",
       "27 Protestant              United pres ch in us  110\n",
       "28 Protestant              Presbyterian c in us  104\n",
       "29 Protestant              Lutheran-dk which     267\n",
       "30 Protestant              Evangelical luth      122\n",
       "31 Protestant              Other lutheran         30\n",
       "32 Protestant              Wi evan luth synod     71\n",
       "33 Protestant              Lutheran-mo synod     212\n",
       "34 Protestant              Luth ch in america     71\n",
       "35 Protestant              Am lutheran           146\n",
       "36 Protestant              Methodist-dk which    239\n",
       "37 Protestant              Other methodist        33\n",
       "38 Protestant              United methodist     1067\n",
       "39 Protestant              Afr meth ep zion       32\n",
       "40 Protestant              Afr meth episcopal     77\n",
       "41 Protestant              Baptist-dk which     1457\n",
       "42 Protestant              Other baptists        213\n",
       "43 Protestant              Southern baptist     1536\n",
       "44 Protestant              Nat bapt conv usa      40\n",
       "45 Protestant              Nat bapt conv of am    76\n",
       "46 Protestant              Am bapt ch in usa     130\n",
       "47 Protestant              Am baptist asso       237"
      ]
     },
     "metadata": {},
     "output_type": "display_data"
    }
   ],
   "source": [
    "gss_cat |>\n",
    "    count(relig, denom)"
   ]
  },
  {
   "cell_type": "code",
   "execution_count": 45,
   "metadata": {
    "vscode": {
     "languageId": "r"
    }
   },
   "outputs": [
    {
     "data": {
      "image/png": "[encoded data removed]",
      "text/plain": [
       "plot without title"
      ]
     },
     "metadata": {
      "image/png": {
       "height": 420,
       "width": 420
      }
     },
     "output_type": "display_data"
    }
   ],
   "source": [
    "ggplot(gss_cat, aes(x = relig, y = denom)) +\n",
    "    geom_point()\n"
   ]
  },
  {
   "attachments": {},
   "cell_type": "markdown",
   "metadata": {},
   "source": [
    "## 16.4.1 Assignments"
   ]
  },
  {
   "attachments": {},
   "cell_type": "markdown",
   "metadata": {},
   "source": [
    "1. There are some suspiciously high numbers in tvhours. Is the mean a good summary?"
   ]
  },
  {
   "attachments": {},
   "cell_type": "markdown",
   "metadata": {},
   "source": [
    "Answer: The mean is 2.981 for tvhours. The mean or median would be a good summary of the data."
   ]
  },
  {
   "cell_type": "code",
   "execution_count": 57,
   "metadata": {
    "vscode": {
     "languageId": "r"
    }
   },
   "outputs": [
    {
     "data": {
      "text/plain": [
       "    tvhours      \n",
       " Min.   : 0.000  \n",
       " 1st Qu.: 1.000  \n",
       " Median : 2.000  \n",
       " Mean   : 2.981  \n",
       " 3rd Qu.: 4.000  \n",
       " Max.   :24.000  \n",
       " NA's   :10146   "
      ]
     },
     "metadata": {},
     "output_type": "display_data"
    }
   ],
   "source": [
    "summary(gss_cat['tvhours'])"
   ]
  },
  {
   "attachments": {},
   "cell_type": "markdown",
   "metadata": {},
   "source": [
    "2. For each factor in gss_cat identify whether the order of the levels is arbitrary or principled."
   ]
  },
  {
   "attachments": {},
   "cell_type": "markdown",
   "metadata": {},
   "source": [
    "Answer: marital, race, rincome, partyid, relig, and denom are all factors. Marital is arbitrarily ordered with each type of marital status not being ordered above another. Race is arbitrarily ordered since there isn't an order to the category of race. Rincome is principled because it's ordered from highest to lowest (however the not applicable, NA, Don't Know, Refused, etc are added in somewhat random assignments). Partyid is principled as it's entered from strong Republican to strong Democrat. Relig is arbitrarily ordered with no status being above another. Denom is arbitrarily ordered since each denom is not ordered above another."
   ]
  },
  {
   "cell_type": "code",
   "execution_count": 67,
   "metadata": {
    "vscode": {
     "languageId": "r"
    }
   },
   "outputs": [
    {
     "data": {
      "image/png": "[encoded data removed]",
      "text/plain": [
       "plot without title"
      ]
     },
     "metadata": {
      "image/png": {
       "height": 420,
       "width": 420
      }
     },
     "output_type": "display_data"
    }
   ],
   "source": [
    "ggplot(gss_cat, aes(x = marital)) +\n",
    "    geom_bar()"
   ]
  },
  {
   "cell_type": "code",
   "execution_count": 68,
   "metadata": {
    "vscode": {
     "languageId": "r"
    }
   },
   "outputs": [
    {
     "data": {
      "image/png": "[encoded data removed]",
      "text/plain": [
       "plot without title"
      ]
     },
     "metadata": {
      "image/png": {
       "height": 420,
       "width": 420
      }
     },
     "output_type": "display_data"
    }
   ],
   "source": [
    "ggplot(gss_cat, aes(x = race)) +\n",
    "    geom_bar()"
   ]
  },
  {
   "cell_type": "code",
   "execution_count": 70,
   "metadata": {
    "vscode": {
     "languageId": "r"
    }
   },
   "outputs": [
    {
     "data": {
      "text/html": [
       "<style>\n",
       ".list-inline {list-style: none; margin:0; padding: 0}\n",
       ".list-inline>li {display: inline-block}\n",
       ".list-inline>li:not(:last-child)::after {content: \"\\00b7\"; padding: 0 .5ex}\n",
       "</style>\n",
       "<ol class=list-inline><li>'No answer'</li><li>'Don\\'t know'</li><li>'Refused'</li><li>'$25000 or more'</li><li>'$20000 - 24999'</li><li>'$15000 - 19999'</li><li>'$10000 - 14999'</li><li>'$8000 to 9999'</li><li>'$7000 to 7999'</li><li>'$6000 to 6999'</li><li>'$5000 to 5999'</li><li>'$4000 to 4999'</li><li>'$3000 to 3999'</li><li>'$1000 to 2999'</li><li>'Lt $1000'</li><li>'Not applicable'</li></ol>\n"
      ],
      "text/latex": [
       "\\begin{enumerate*}\n",
       "\\item 'No answer'\n",
       "\\item 'Don\\textbackslash{}'t know'\n",
       "\\item 'Refused'\n",
       "\\item '\\$25000 or more'\n",
       "\\item '\\$20000 - 24999'\n",
       "\\item '\\$15000 - 19999'\n",
       "\\item '\\$10000 - 14999'\n",
       "\\item '\\$8000 to 9999'\n",
       "\\item '\\$7000 to 7999'\n",
       "\\item '\\$6000 to 6999'\n",
       "\\item '\\$5000 to 5999'\n",
       "\\item '\\$4000 to 4999'\n",
       "\\item '\\$3000 to 3999'\n",
       "\\item '\\$1000 to 2999'\n",
       "\\item 'Lt \\$1000'\n",
       "\\item 'Not applicable'\n",
       "\\end{enumerate*}\n"
      ],
      "text/markdown": [
       "1. 'No answer'\n",
       "2. 'Don\\'t know'\n",
       "3. 'Refused'\n",
       "4. '$25000 or more'\n",
       "5. '$20000 - 24999'\n",
       "6. '$15000 - 19999'\n",
       "7. '$10000 - 14999'\n",
       "8. '$8000 to 9999'\n",
       "9. '$7000 to 7999'\n",
       "10. '$6000 to 6999'\n",
       "11. '$5000 to 5999'\n",
       "12. '$4000 to 4999'\n",
       "13. '$3000 to 3999'\n",
       "14. '$1000 to 2999'\n",
       "15. 'Lt $1000'\n",
       "16. 'Not applicable'\n",
       "\n",
       "\n"
      ],
      "text/plain": [
       " [1] \"No answer\"      \"Don't know\"     \"Refused\"        \"$25000 or more\"\n",
       " [5] \"$20000 - 24999\" \"$15000 - 19999\" \"$10000 - 14999\" \"$8000 to 9999\" \n",
       " [9] \"$7000 to 7999\"  \"$6000 to 6999\"  \"$5000 to 5999\"  \"$4000 to 4999\" \n",
       "[13] \"$3000 to 3999\"  \"$1000 to 2999\"  \"Lt $1000\"       \"Not applicable\""
      ]
     },
     "metadata": {},
     "output_type": "display_data"
    }
   ],
   "source": [
    "levels(gss_cat$rincome)"
   ]
  },
  {
   "cell_type": "code",
   "execution_count": 69,
   "metadata": {
    "vscode": {
     "languageId": "r"
    }
   },
   "outputs": [
    {
     "data": {
      "image/png": "[encoded data removed]",
      "text/plain": [
       "plot without title"
      ]
     },
     "metadata": {
      "image/png": {
       "height": 420,
       "width": 420
      }
     },
     "output_type": "display_data"
    }
   ],
   "source": [
    "ggplot(gss_cat, aes(x = rincome)) +\n",
    "    geom_bar()"
   ]
  },
  {
   "cell_type": "code",
   "execution_count": 72,
   "metadata": {
    "vscode": {
     "languageId": "r"
    }
   },
   "outputs": [
    {
     "data": {
      "text/html": [
       "<style>\n",
       ".list-inline {list-style: none; margin:0; padding: 0}\n",
       ".list-inline>li {display: inline-block}\n",
       ".list-inline>li:not(:last-child)::after {content: \"\\00b7\"; padding: 0 .5ex}\n",
       "</style>\n",
       "<ol class=list-inline><li>'No answer'</li><li>'Don\\'t know'</li><li>'Other party'</li><li>'Strong republican'</li><li>'Not str republican'</li><li>'Ind,near rep'</li><li>'Independent'</li><li>'Ind,near dem'</li><li>'Not str democrat'</li><li>'Strong democrat'</li></ol>\n"
      ],
      "text/latex": [
       "\\begin{enumerate*}\n",
       "\\item 'No answer'\n",
       "\\item 'Don\\textbackslash{}'t know'\n",
       "\\item 'Other party'\n",
       "\\item 'Strong republican'\n",
       "\\item 'Not str republican'\n",
       "\\item 'Ind,near rep'\n",
       "\\item 'Independent'\n",
       "\\item 'Ind,near dem'\n",
       "\\item 'Not str democrat'\n",
       "\\item 'Strong democrat'\n",
       "\\end{enumerate*}\n"
      ],
      "text/markdown": [
       "1. 'No answer'\n",
       "2. 'Don\\'t know'\n",
       "3. 'Other party'\n",
       "4. 'Strong republican'\n",
       "5. 'Not str republican'\n",
       "6. 'Ind,near rep'\n",
       "7. 'Independent'\n",
       "8. 'Ind,near dem'\n",
       "9. 'Not str democrat'\n",
       "10. 'Strong democrat'\n",
       "\n",
       "\n"
      ],
      "text/plain": [
       " [1] \"No answer\"          \"Don't know\"         \"Other party\"       \n",
       " [4] \"Strong republican\"  \"Not str republican\" \"Ind,near rep\"      \n",
       " [7] \"Independent\"        \"Ind,near dem\"       \"Not str democrat\"  \n",
       "[10] \"Strong democrat\"   "
      ]
     },
     "metadata": {},
     "output_type": "display_data"
    }
   ],
   "source": [
    "levels(gss_cat$partyid)"
   ]
  },
  {
   "cell_type": "code",
   "execution_count": 71,
   "metadata": {
    "vscode": {
     "languageId": "r"
    }
   },
   "outputs": [
    {
     "data": {
      "image/png": "[encoded data removed]",
      "text/plain": [
       "plot without title"
      ]
     },
     "metadata": {
      "image/png": {
       "height": 420,
       "width": 420
      }
     },
     "output_type": "display_data"
    }
   ],
   "source": [
    "ggplot(gss_cat, aes(x = partyid)) +\n",
    "    geom_bar()"
   ]
  },
  {
   "cell_type": "code",
   "execution_count": 74,
   "metadata": {
    "vscode": {
     "languageId": "r"
    }
   },
   "outputs": [
    {
     "data": {
      "text/html": [
       "<style>\n",
       ".list-inline {list-style: none; margin:0; padding: 0}\n",
       ".list-inline>li {display: inline-block}\n",
       ".list-inline>li:not(:last-child)::after {content: \"\\00b7\"; padding: 0 .5ex}\n",
       "</style>\n",
       "<ol class=list-inline><li>'No answer'</li><li>'Don\\'t know'</li><li>'Inter-nondenominational'</li><li>'Native american'</li><li>'Christian'</li><li>'Orthodox-christian'</li><li>'Moslem/islam'</li><li>'Other eastern'</li><li>'Hinduism'</li><li>'Buddhism'</li><li>'Other'</li><li>'None'</li><li>'Jewish'</li><li>'Catholic'</li><li>'Protestant'</li><li>'Not applicable'</li></ol>\n"
      ],
      "text/latex": [
       "\\begin{enumerate*}\n",
       "\\item 'No answer'\n",
       "\\item 'Don\\textbackslash{}'t know'\n",
       "\\item 'Inter-nondenominational'\n",
       "\\item 'Native american'\n",
       "\\item 'Christian'\n",
       "\\item 'Orthodox-christian'\n",
       "\\item 'Moslem/islam'\n",
       "\\item 'Other eastern'\n",
       "\\item 'Hinduism'\n",
       "\\item 'Buddhism'\n",
       "\\item 'Other'\n",
       "\\item 'None'\n",
       "\\item 'Jewish'\n",
       "\\item 'Catholic'\n",
       "\\item 'Protestant'\n",
       "\\item 'Not applicable'\n",
       "\\end{enumerate*}\n"
      ],
      "text/markdown": [
       "1. 'No answer'\n",
       "2. 'Don\\'t know'\n",
       "3. 'Inter-nondenominational'\n",
       "4. 'Native american'\n",
       "5. 'Christian'\n",
       "6. 'Orthodox-christian'\n",
       "7. 'Moslem/islam'\n",
       "8. 'Other eastern'\n",
       "9. 'Hinduism'\n",
       "10. 'Buddhism'\n",
       "11. 'Other'\n",
       "12. 'None'\n",
       "13. 'Jewish'\n",
       "14. 'Catholic'\n",
       "15. 'Protestant'\n",
       "16. 'Not applicable'\n",
       "\n",
       "\n"
      ],
      "text/plain": [
       " [1] \"No answer\"               \"Don't know\"             \n",
       " [3] \"Inter-nondenominational\" \"Native american\"        \n",
       " [5] \"Christian\"               \"Orthodox-christian\"     \n",
       " [7] \"Moslem/islam\"            \"Other eastern\"          \n",
       " [9] \"Hinduism\"                \"Buddhism\"               \n",
       "[11] \"Other\"                   \"None\"                   \n",
       "[13] \"Jewish\"                  \"Catholic\"               \n",
       "[15] \"Protestant\"              \"Not applicable\"         "
      ]
     },
     "metadata": {},
     "output_type": "display_data"
    }
   ],
   "source": [
    "levels(gss_cat$relig)"
   ]
  },
  {
   "cell_type": "code",
   "execution_count": 73,
   "metadata": {
    "vscode": {
     "languageId": "r"
    }
   },
   "outputs": [
    {
     "data": {
      "image/png": "[encoded data removed]",
      "text/plain": [
       "plot without title"
      ]
     },
     "metadata": {
      "image/png": {
       "height": 420,
       "width": 420
      }
     },
     "output_type": "display_data"
    }
   ],
   "source": [
    "ggplot(gss_cat, aes(x = relig)) +\n",
    "    geom_bar()"
   ]
  },
  {
   "cell_type": "code",
   "execution_count": 75,
   "metadata": {
    "vscode": {
     "languageId": "r"
    }
   },
   "outputs": [
    {
     "data": {
      "text/html": [
       "<style>\n",
       ".list-inline {list-style: none; margin:0; padding: 0}\n",
       ".list-inline>li {display: inline-block}\n",
       ".list-inline>li:not(:last-child)::after {content: \"\\00b7\"; padding: 0 .5ex}\n",
       "</style>\n",
       "<ol class=list-inline><li>'No answer'</li><li>'Don\\'t know'</li><li>'No denomination'</li><li>'Other'</li><li>'Episcopal'</li><li>'Presbyterian-dk wh'</li><li>'Presbyterian, merged'</li><li>'Other presbyterian'</li><li>'United pres ch in us'</li><li>'Presbyterian c in us'</li><li>'Lutheran-dk which'</li><li>'Evangelical luth'</li><li>'Other lutheran'</li><li>'Wi evan luth synod'</li><li>'Lutheran-mo synod'</li><li>'Luth ch in america'</li><li>'Am lutheran'</li><li>'Methodist-dk which'</li><li>'Other methodist'</li><li>'United methodist'</li><li>'Afr meth ep zion'</li><li>'Afr meth episcopal'</li><li>'Baptist-dk which'</li><li>'Other baptists'</li><li>'Southern baptist'</li><li>'Nat bapt conv usa'</li><li>'Nat bapt conv of am'</li><li>'Am bapt ch in usa'</li><li>'Am baptist asso'</li><li>'Not applicable'</li></ol>\n"
      ],
      "text/latex": [
       "\\begin{enumerate*}\n",
       "\\item 'No answer'\n",
       "\\item 'Don\\textbackslash{}'t know'\n",
       "\\item 'No denomination'\n",
       "\\item 'Other'\n",
       "\\item 'Episcopal'\n",
       "\\item 'Presbyterian-dk wh'\n",
       "\\item 'Presbyterian, merged'\n",
       "\\item 'Other presbyterian'\n",
       "\\item 'United pres ch in us'\n",
       "\\item 'Presbyterian c in us'\n",
       "\\item 'Lutheran-dk which'\n",
       "\\item 'Evangelical luth'\n",
       "\\item 'Other lutheran'\n",
       "\\item 'Wi evan luth synod'\n",
       "\\item 'Lutheran-mo synod'\n",
       "\\item 'Luth ch in america'\n",
       "\\item 'Am lutheran'\n",
       "\\item 'Methodist-dk which'\n",
       "\\item 'Other methodist'\n",
       "\\item 'United methodist'\n",
       "\\item 'Afr meth ep zion'\n",
       "\\item 'Afr meth episcopal'\n",
       "\\item 'Baptist-dk which'\n",
       "\\item 'Other baptists'\n",
       "\\item 'Southern baptist'\n",
       "\\item 'Nat bapt conv usa'\n",
       "\\item 'Nat bapt conv of am'\n",
       "\\item 'Am bapt ch in usa'\n",
       "\\item 'Am baptist asso'\n",
       "\\item 'Not applicable'\n",
       "\\end{enumerate*}\n"
      ],
      "text/markdown": [
       "1. 'No answer'\n",
       "2. 'Don\\'t know'\n",
       "3. 'No denomination'\n",
       "4. 'Other'\n",
       "5. 'Episcopal'\n",
       "6. 'Presbyterian-dk wh'\n",
       "7. 'Presbyterian, merged'\n",
       "8. 'Other presbyterian'\n",
       "9. 'United pres ch in us'\n",
       "10. 'Presbyterian c in us'\n",
       "11. 'Lutheran-dk which'\n",
       "12. 'Evangelical luth'\n",
       "13. 'Other lutheran'\n",
       "14. 'Wi evan luth synod'\n",
       "15. 'Lutheran-mo synod'\n",
       "16. 'Luth ch in america'\n",
       "17. 'Am lutheran'\n",
       "18. 'Methodist-dk which'\n",
       "19. 'Other methodist'\n",
       "20. 'United methodist'\n",
       "21. 'Afr meth ep zion'\n",
       "22. 'Afr meth episcopal'\n",
       "23. 'Baptist-dk which'\n",
       "24. 'Other baptists'\n",
       "25. 'Southern baptist'\n",
       "26. 'Nat bapt conv usa'\n",
       "27. 'Nat bapt conv of am'\n",
       "28. 'Am bapt ch in usa'\n",
       "29. 'Am baptist asso'\n",
       "30. 'Not applicable'\n",
       "\n",
       "\n"
      ],
      "text/plain": [
       " [1] \"No answer\"            \"Don't know\"           \"No denomination\"     \n",
       " [4] \"Other\"                \"Episcopal\"            \"Presbyterian-dk wh\"  \n",
       " [7] \"Presbyterian, merged\" \"Other presbyterian\"   \"United pres ch in us\"\n",
       "[10] \"Presbyterian c in us\" \"Lutheran-dk which\"    \"Evangelical luth\"    \n",
       "[13] \"Other lutheran\"       \"Wi evan luth synod\"   \"Lutheran-mo synod\"   \n",
       "[16] \"Luth ch in america\"   \"Am lutheran\"          \"Methodist-dk which\"  \n",
       "[19] \"Other methodist\"      \"United methodist\"     \"Afr meth ep zion\"    \n",
       "[22] \"Afr meth episcopal\"   \"Baptist-dk which\"     \"Other baptists\"      \n",
       "[25] \"Southern baptist\"     \"Nat bapt conv usa\"    \"Nat bapt conv of am\" \n",
       "[28] \"Am bapt ch in usa\"    \"Am baptist asso\"      \"Not applicable\"      "
      ]
     },
     "metadata": {},
     "output_type": "display_data"
    }
   ],
   "source": [
    "levels(gss_cat$denom)"
   ]
  },
  {
   "cell_type": "code",
   "execution_count": 76,
   "metadata": {
    "vscode": {
     "languageId": "r"
    }
   },
   "outputs": [
    {
     "data": {
      "image/png": "[encoded data removed]",
      "text/plain": [
       "plot without title"
      ]
     },
     "metadata": {
      "image/png": {
       "height": 420,
       "width": 420
      }
     },
     "output_type": "display_data"
    }
   ],
   "source": [
    "ggplot(gss_cat, aes(x = denom)) + \n",
    "    geom_bar()"
   ]
  },
  {
   "attachments": {},
   "cell_type": "markdown",
   "metadata": {},
   "source": [
    "3. Why did moving “Not applicable” to the front of the levels move it to the bottom of the plot?"
   ]
  },
  {
   "attachments": {},
   "cell_type": "markdown",
   "metadata": {},
   "source": [
    "Answer: Because you move it to the front (it will be in front of the highest income levels). The relevel orientation made it so that it's at the bottom."
   ]
  },
  {
   "attachments": {},
   "cell_type": "markdown",
   "metadata": {},
   "source": [
    "## 16.5.1 Assignments"
   ]
  },
  {
   "attachments": {},
   "cell_type": "markdown",
   "metadata": {},
   "source": [
    "1. How have the proportions of people identifying as Democrat, Republican, and Independent changed over time?"
   ]
  },
  {
   "cell_type": "code",
   "execution_count": 79,
   "metadata": {
    "vscode": {
     "languageId": "r"
    }
   },
   "outputs": [
    {
     "data": {
      "image/png": "[encoded data removed]",
      "text/plain": [
       "plot without title"
      ]
     },
     "metadata": {
      "image/png": {
       "height": 420,
       "width": 420
      }
     },
     "output_type": "display_data"
    }
   ],
   "source": [
    "gss_cat |>\n",
    "  mutate(\n",
    "    partyid = fct_collapse(partyid,\n",
    "      \"other\" = c(\"No answer\", \"Don't know\", \"Other party\"),\n",
    "      \"rep\" = c(\"Strong republican\", \"Not str republican\"),\n",
    "      \"ind\" = c(\"Ind,near rep\", \"Independent\", \"Ind,near dem\"),\n",
    "      \"dem\" = c(\"Not str democrat\", \"Strong democrat\")\n",
    "    )\n",
    "  ) |>\n",
    "  count(year, partyid) |>\n",
    "  group_by(year) |>\n",
    "  mutate(p = n / sum(n)) |>\n",
    "  ggplot(aes(x = year, y = p, colour = fct_reorder2(partyid, year, p))) +\n",
    "  geom_point() +\n",
    "  geom_line()"
   ]
  },
  {
   "attachments": {},
   "cell_type": "markdown",
   "metadata": {},
   "source": [
    "2. How could you collapse rincome into a small set of categories?"
   ]
  },
  {
   "cell_type": "code",
   "execution_count": 80,
   "metadata": {
    "vscode": {
     "languageId": "r"
    }
   },
   "outputs": [
    {
     "data": {
      "text/html": [
       "<style>\n",
       ".list-inline {list-style: none; margin:0; padding: 0}\n",
       ".list-inline>li {display: inline-block}\n",
       ".list-inline>li:not(:last-child)::after {content: \"\\00b7\"; padding: 0 .5ex}\n",
       "</style>\n",
       "<ol class=list-inline><li>'No answer'</li><li>'Don\\'t know'</li><li>'Refused'</li><li>'$25000 or more'</li><li>'$20000 - 24999'</li><li>'$15000 - 19999'</li><li>'$10000 - 14999'</li><li>'$8000 to 9999'</li><li>'$7000 to 7999'</li><li>'$6000 to 6999'</li><li>'$5000 to 5999'</li><li>'$4000 to 4999'</li><li>'$3000 to 3999'</li><li>'$1000 to 2999'</li><li>'Lt $1000'</li><li>'Not applicable'</li></ol>\n"
      ],
      "text/latex": [
       "\\begin{enumerate*}\n",
       "\\item 'No answer'\n",
       "\\item 'Don\\textbackslash{}'t know'\n",
       "\\item 'Refused'\n",
       "\\item '\\$25000 or more'\n",
       "\\item '\\$20000 - 24999'\n",
       "\\item '\\$15000 - 19999'\n",
       "\\item '\\$10000 - 14999'\n",
       "\\item '\\$8000 to 9999'\n",
       "\\item '\\$7000 to 7999'\n",
       "\\item '\\$6000 to 6999'\n",
       "\\item '\\$5000 to 5999'\n",
       "\\item '\\$4000 to 4999'\n",
       "\\item '\\$3000 to 3999'\n",
       "\\item '\\$1000 to 2999'\n",
       "\\item 'Lt \\$1000'\n",
       "\\item 'Not applicable'\n",
       "\\end{enumerate*}\n"
      ],
      "text/markdown": [
       "1. 'No answer'\n",
       "2. 'Don\\'t know'\n",
       "3. 'Refused'\n",
       "4. '$25000 or more'\n",
       "5. '$20000 - 24999'\n",
       "6. '$15000 - 19999'\n",
       "7. '$10000 - 14999'\n",
       "8. '$8000 to 9999'\n",
       "9. '$7000 to 7999'\n",
       "10. '$6000 to 6999'\n",
       "11. '$5000 to 5999'\n",
       "12. '$4000 to 4999'\n",
       "13. '$3000 to 3999'\n",
       "14. '$1000 to 2999'\n",
       "15. 'Lt $1000'\n",
       "16. 'Not applicable'\n",
       "\n",
       "\n"
      ],
      "text/plain": [
       " [1] \"No answer\"      \"Don't know\"     \"Refused\"        \"$25000 or more\"\n",
       " [5] \"$20000 - 24999\" \"$15000 - 19999\" \"$10000 - 14999\" \"$8000 to 9999\" \n",
       " [9] \"$7000 to 7999\"  \"$6000 to 6999\"  \"$5000 to 5999\"  \"$4000 to 4999\" \n",
       "[13] \"$3000 to 3999\"  \"$1000 to 2999\"  \"Lt $1000\"       \"Not applicable\""
      ]
     },
     "metadata": {},
     "output_type": "display_data"
    }
   ],
   "source": [
    "levels(gss_cat$rincome)"
   ]
  },
  {
   "cell_type": "code",
   "execution_count": 91,
   "metadata": {
    "vscode": {
     "languageId": "r"
    }
   },
   "outputs": [
    {
     "data": {
      "image/png": "[encoded data removed]",
      "text/plain": [
       "plot without title"
      ]
     },
     "metadata": {
      "image/png": {
       "height": 420,
       "width": 420
      }
     },
     "output_type": "display_data"
    }
   ],
   "source": [
    "library('stringr')\n",
    "gss_cat |>\n",
    "  mutate(\n",
    "    rincome =\n",
    "      fct_collapse(\n",
    "        rincome,\n",
    "        `Unknown` = c(\"No answer\", \"Don't know\", \"Refused\", \"Not applicable\"),\n",
    "        `Lt $5000` = c(\"Lt $1000\", str_c(\"$\", c(\"1000\", \"3000\", \"4000\"), \" to \", c(\"2999\", \"3999\", \"4999\"))),\n",
    "        `$5000 to 10000` = str_c(\"$\", c(\"5000\", \"6000\", \"7000\", \"8000\"), \" to \", c(\"5999\", \"6999\", \"7999\", \"9999\")))\n",
    "        )|>\n",
    "  ggplot(aes(x = rincome)) +\n",
    "  geom_bar() +\n",
    "  coord_flip()"
   ]
  },
  {
   "attachments": {},
   "cell_type": "markdown",
   "metadata": {},
   "source": [
    "3. Notice there are 9 groups (excluding other) in the fct_lump example above. Why not 10? (Hint: type ?fct_lump, and find the default for the argument other_level is “Other”.)"
   ]
  },
  {
   "attachments": {},
   "cell_type": "markdown",
   "metadata": {},
   "source": [
    "Answer: It's always placed at the end of levels so it wouldn't made as a separate group. "
   ]
  },
  {
   "cell_type": "code",
   "execution_count": 92,
   "metadata": {
    "vscode": {
     "languageId": "r"
    }
   },
   "outputs": [
    {
     "name": "stdout",
     "output_type": "stream",
     "text": [
      "fct_lump                package:forcats                R Documentation\n",
      "\n",
      "_\bL_\bu_\bm_\bp _\bu_\bn_\bc_\bo_\bm_\bm_\bo_\bn _\bf_\ba_\bc_\bt_\bo_\br _\bt_\bo_\bg_\be_\bt_\bh_\be_\br _\bl_\be_\bv_\be_\bl_\bs _\bi_\bn_\bt_\bo \"_\bo_\bt_\bh_\be_\br\"\n",
      "\n",
      "_\bD_\be_\bs_\bc_\br_\bi_\bp_\bt_\bi_\bo_\bn:\n",
      "\n",
      "     A family for lumping together levels that meet some criteria.\n",
      "\n",
      "        • ‘fct_lump_min()’: lumps levels that appear fewer than ‘min’\n",
      "          times.\n",
      "\n",
      "        • ‘fct_lump_prop()’: lumps levels that appear in fewer than (or\n",
      "          equal to) ‘prop * n’ times.\n",
      "\n",
      "        • ‘fct_lump_n()’ lumps all levels except for the ‘n’ most\n",
      "          frequent (or least frequent if ‘n < 0’)\n",
      "\n",
      "        • ‘fct_lump_lowfreq()’ lumps together the least frequent\n",
      "          levels, ensuring that \"other\" is still the smallest level.\n",
      "\n",
      "     ‘fct_lump()’ exists primarily for historical reasons, as it\n",
      "     automatically picks between these different methods depending on\n",
      "     its arguments. We no longer recommend that you use it.\n",
      "\n",
      "_\bU_\bs_\ba_\bg_\be:\n",
      "\n",
      "     fct_lump(\n",
      "       f,\n",
      "       n,\n",
      "       prop,\n",
      "       w = NULL,\n",
      "       other_level = \"Other\",\n",
      "       ties.method = c(\"min\", \"average\", \"first\", \"last\", \"random\", \"max\")\n",
      "     )\n",
      "     \n",
      "     fct_lump_min(f, min, w = NULL, other_level = \"Other\")\n",
      "     \n",
      "     fct_lump_prop(f, prop, w = NULL, other_level = \"Other\")\n",
      "     \n",
      "     fct_lump_n(\n",
      "       f,\n",
      "       n,\n",
      "       w = NULL,\n",
      "       other_level = \"Other\",\n",
      "       ties.method = c(\"min\", \"average\", \"first\", \"last\", \"random\", \"max\")\n",
      "     )\n",
      "     \n",
      "     fct_lump_lowfreq(f, w = NULL, other_level = \"Other\")\n",
      "     \n",
      "_\bA_\br_\bg_\bu_\bm_\be_\bn_\bt_\bs:\n",
      "\n",
      "       f: A factor (or character vector).\n",
      "\n",
      "       n: Positive ‘n’ preserves the most common ‘n’ values. Negative\n",
      "          ‘n’ preserves the least common ‘-n’ values. It there are\n",
      "          ties, you will get at least ‘abs(n)’ values.\n",
      "\n",
      "    prop: Positive ‘prop’ lumps values which do not appear at least\n",
      "          ‘prop’ of the time. Negative ‘prop’ lumps values that do not\n",
      "          appear at most ‘-prop’ of the time.\n",
      "\n",
      "       w: An optional numeric vector giving weights for frequency of\n",
      "          each value (not level) in f.\n",
      "\n",
      "other_level: Value of level used for \"other\" values. Always placed at\n",
      "          end of levels.\n",
      "\n",
      "ties.method: A character string specifying how ties are treated. See\n",
      "          ‘rank()’ for details.\n",
      "\n",
      "     min: Preserve levels that appear at least ‘min’ number of times.\n",
      "\n",
      "_\bS_\be_\be _\bA_\bl_\bs_\bo:\n",
      "\n",
      "     ‘fct_other()’ to convert specified levels to other.\n",
      "\n",
      "_\bE_\bx_\ba_\bm_\bp_\bl_\be_\bs:\n",
      "\n",
      "     x <- factor(rep(LETTERS[1:9], times = c(40, 10, 5, 27, 1, 1, 1, 1, 1)))\n",
      "     x %>% table()\n",
      "     x %>%\n",
      "       fct_lump_n(3) %>%\n",
      "       table()\n",
      "     x %>%\n",
      "       fct_lump_prop(0.10) %>%\n",
      "       table()\n",
      "     x %>%\n",
      "       fct_lump_min(5) %>%\n",
      "       table()\n",
      "     x %>%\n",
      "       fct_lump_lowfreq() %>%\n",
      "       table()\n",
      "     \n",
      "     x <- factor(letters[rpois(100, 5)])\n",
      "     x\n",
      "     table(x)\n",
      "     table(fct_lump_lowfreq(x))\n",
      "     \n",
      "     # Use positive values to collapse the rarest\n",
      "     fct_lump_n(x, n = 3)\n",
      "     fct_lump_prop(x, prop = 0.1)\n",
      "     \n",
      "     # Use negative values to collapse the most common\n",
      "     fct_lump_n(x, n = -3)\n",
      "     fct_lump_prop(x, prop = -0.1)\n",
      "     \n",
      "     # Use weighted frequencies\n",
      "     w <- c(rep(2, 50), rep(1, 50))\n",
      "     fct_lump_n(x, n = 5, w = w)\n",
      "     \n",
      "     # Use ties.method to control how tied factors are collapsed\n",
      "     fct_lump_n(x, n = 6)\n",
      "     fct_lump_n(x, n = 6, ties.method = \"max\")\n",
      "     \n",
      "     # Use fct_lump_min() to lump together all levels with fewer than `n` values\n",
      "     table(fct_lump_min(x, min = 10))\n",
      "     table(fct_lump_min(x, min = 15))\n",
      "     "
     ]
    }
   ],
   "source": [
    "?fct_lump"
   ]
  }
 ],
 "metadata": {
  "kernelspec": {
   "display_name": "R",
   "language": "R",
   "name": "ir"
  },
  "language_info": {
   "codemirror_mode": "r",
   "file_extension": ".r",
   "mimetype": "text/x-r-source",
   "name": "R",
   "pygments_lexer": "r",
   "version": "4.2.1"
  },
  "orig_nbformat": 4
 },
 "nbformat": 4,
 "nbformat_minor": 2
}
