{
 "cells": [
  {
   "attachments": {},
   "cell_type": "markdown",
   "metadata": {},
   "source": [
    "# Running Exercises"
   ]
  },
  {
   "cell_type": "code",
   "execution_count": 40,
   "metadata": {
    "vscode": {
     "languageId": "r"
    }
   },
   "outputs": [],
   "source": [
    "library(readxl)\n",
    "library(tidyverse)"
   ]
  },
  {
   "cell_type": "code",
   "execution_count": 2,
   "metadata": {
    "vscode": {
     "languageId": "r"
    }
   },
   "outputs": [
    {
     "ename": "ERROR",
     "evalue": "Error in library(writexl): there is no package called ‘writexl’\n",
     "output_type": "error",
     "traceback": [
      "Error in library(writexl): there is no package called ‘writexl’\nTraceback:\n",
      "1. library(writexl)"
     ]
    }
   ],
   "source": [
    "library(writexl)"
   ]
  },
  {
   "attachments": {},
   "cell_type": "markdown",
   "metadata": {},
   "source": [
    "# Homework Assignments"
   ]
  },
  {
   "attachments": {},
   "cell_type": "markdown",
   "metadata": {},
   "source": [
    "## 20.2.9 Assignments"
   ]
  },
  {
   "attachments": {},
   "cell_type": "markdown",
   "metadata": {},
   "source": [
    "1. In an Excel file, create the following dataset and save it as survey.xlsx. Alternatively, you can download it as an Excel file from here.\n",
    "\n",
    "Then, read it into R, with survey_id as a character variable and n_pets as a numerical variable.\n",
    "```r\n",
    "#> # A tibble: 6 × 2\n",
    "#>   survey_id n_pets\n",
    "#>   <chr>      <dbl>\n",
    "#> 1 1              0\n",
    "#> 2 2              1\n",
    "#> 3 3             NA\n",
    "#> 4 4              2\n",
    "#> 5 5              2\n",
    "#> 6 6             NA\n",
    "```"
   ]
  },
  {
   "cell_type": "code",
   "execution_count": 16,
   "metadata": {
    "vscode": {
     "languageId": "r"
    }
   },
   "outputs": [
    {
     "data": {
      "text/html": [
       "<table class=\"dataframe\">\n",
       "<caption>A tibble: 6 × 2</caption>\n",
       "<thead>\n",
       "\t<tr><th scope=col>survey_id</th><th scope=col>n_pets</th></tr>\n",
       "\t<tr><th scope=col>&lt;dbl&gt;</th><th scope=col>&lt;chr&gt;</th></tr>\n",
       "</thead>\n",
       "<tbody>\n",
       "\t<tr><td>1</td><td>0.0</td></tr>\n",
       "\t<tr><td>2</td><td>1.0</td></tr>\n",
       "\t<tr><td>3</td><td>N/A</td></tr>\n",
       "\t<tr><td>4</td><td>two</td></tr>\n",
       "\t<tr><td>5</td><td>2.0</td></tr>\n",
       "\t<tr><td>6</td><td>NA </td></tr>\n",
       "</tbody>\n",
       "</table>\n"
      ],
      "text/latex": [
       "A tibble: 6 × 2\n",
       "\\begin{tabular}{ll}\n",
       " survey\\_id & n\\_pets\\\\\n",
       " <dbl> & <chr>\\\\\n",
       "\\hline\n",
       "\t 1 & 0.0\\\\\n",
       "\t 2 & 1.0\\\\\n",
       "\t 3 & N/A\\\\\n",
       "\t 4 & two\\\\\n",
       "\t 5 & 2.0\\\\\n",
       "\t 6 & NA \\\\\n",
       "\\end{tabular}\n"
      ],
      "text/markdown": [
       "\n",
       "A tibble: 6 × 2\n",
       "\n",
       "| survey_id &lt;dbl&gt; | n_pets &lt;chr&gt; |\n",
       "|---|---|\n",
       "| 1 | 0.0 |\n",
       "| 2 | 1.0 |\n",
       "| 3 | N/A |\n",
       "| 4 | two |\n",
       "| 5 | 2.0 |\n",
       "| 6 | NA  |\n",
       "\n"
      ],
      "text/plain": [
       "  survey_id n_pets\n",
       "1 1         0.0   \n",
       "2 2         1.0   \n",
       "3 3         N/A   \n",
       "4 4         two   \n",
       "5 5         2.0   \n",
       "6 6         NA    "
      ]
     },
     "metadata": {},
     "output_type": "display_data"
    }
   ],
   "source": [
    "read_excel('data/survey.xlsx')"
   ]
  },
  {
   "cell_type": "code",
   "execution_count": 21,
   "metadata": {
    "vscode": {
     "languageId": "r"
    }
   },
   "outputs": [
    {
     "data": {
      "text/html": [
       "<table class=\"dataframe\">\n",
       "<caption>A tibble: 6 × 2</caption>\n",
       "<thead>\n",
       "\t<tr><th scope=col>survey_id</th><th scope=col>n_pets</th></tr>\n",
       "\t<tr><th scope=col>&lt;chr&gt;</th><th scope=col>&lt;dbl&gt;</th></tr>\n",
       "</thead>\n",
       "<tbody>\n",
       "\t<tr><td>1.0</td><td> 0</td></tr>\n",
       "\t<tr><td>2.0</td><td> 1</td></tr>\n",
       "\t<tr><td>3.0</td><td>NA</td></tr>\n",
       "\t<tr><td>4.0</td><td> 2</td></tr>\n",
       "\t<tr><td>5.0</td><td> 2</td></tr>\n",
       "\t<tr><td>6.0</td><td>NA</td></tr>\n",
       "</tbody>\n",
       "</table>\n"
      ],
      "text/latex": [
       "A tibble: 6 × 2\n",
       "\\begin{tabular}{ll}\n",
       " survey\\_id & n\\_pets\\\\\n",
       " <chr> & <dbl>\\\\\n",
       "\\hline\n",
       "\t 1.0 &  0\\\\\n",
       "\t 2.0 &  1\\\\\n",
       "\t 3.0 & NA\\\\\n",
       "\t 4.0 &  2\\\\\n",
       "\t 5.0 &  2\\\\\n",
       "\t 6.0 & NA\\\\\n",
       "\\end{tabular}\n"
      ],
      "text/markdown": [
       "\n",
       "A tibble: 6 × 2\n",
       "\n",
       "| survey_id &lt;chr&gt; | n_pets &lt;dbl&gt; |\n",
       "|---|---|\n",
       "| 1.0 |  0 |\n",
       "| 2.0 |  1 |\n",
       "| 3.0 | NA |\n",
       "| 4.0 |  2 |\n",
       "| 5.0 |  2 |\n",
       "| 6.0 | NA |\n",
       "\n"
      ],
      "text/plain": [
       "  survey_id n_pets\n",
       "1 1.0        0    \n",
       "2 2.0        1    \n",
       "3 3.0       NA    \n",
       "4 4.0        2    \n",
       "5 5.0        2    \n",
       "6 6.0       NA    "
      ]
     },
     "metadata": {},
     "output_type": "display_data"
    }
   ],
   "source": [
    "survey <- read_excel('data/survey.xlsx', na = c(\"\", \"N/A\"), col_types = c('text', 'text'))\n",
    "survey <- survey |>\n",
    "  mutate(\n",
    "    n_pets = if_else(n_pets == \"two\", \"2\", n_pets),\n",
    "    n_pets = parse_number(n_pets))\n",
    "survey"
   ]
  },
  {
   "attachments": {},
   "cell_type": "markdown",
   "metadata": {},
   "source": [
    "2. In another Excel file, create the following dataset and save it as roster.xlsx. Alternatively, you can download it as an Excel file from here.\n",
    "\n",
    "Then, read it into R. The resulting data frame should be called roster and should look like the following.\n",
    "```r\n",
    "#> # A tibble: 12 × 3\n",
    "#>    group subgroup    id\n",
    "#>    <dbl> <chr>    <dbl>\n",
    "#>  1     1 A            1\n",
    "#>  2     1 A            2\n",
    "#>  3     1 A            3\n",
    "#>  4     1 B            4\n",
    "#>  5     1 B            5\n",
    "#>  6     1 B            6\n",
    "#>  7     1 B            7\n",
    "#>  8     2 A            8\n",
    "#>  9     2 A            9\n",
    "#> 10     2 B           10\n",
    "#> 11     2 B           11\n",
    "#> 12     2 B           12\n",
    "```"
   ]
  },
  {
   "cell_type": "code",
   "execution_count": 25,
   "metadata": {
    "vscode": {
     "languageId": "r"
    }
   },
   "outputs": [
    {
     "data": {
      "text/html": [
       "<table class=\"dataframe\">\n",
       "<caption>A tibble: 12 × 3</caption>\n",
       "<thead>\n",
       "\t<tr><th scope=col>group</th><th scope=col>subgroup</th><th scope=col>id</th></tr>\n",
       "\t<tr><th scope=col>&lt;dbl&gt;</th><th scope=col>&lt;chr&gt;</th><th scope=col>&lt;dbl&gt;</th></tr>\n",
       "</thead>\n",
       "<tbody>\n",
       "\t<tr><td>1</td><td>A</td><td> 1</td></tr>\n",
       "\t<tr><td>1</td><td>A</td><td> 2</td></tr>\n",
       "\t<tr><td>1</td><td>A</td><td> 3</td></tr>\n",
       "\t<tr><td>1</td><td>B</td><td> 4</td></tr>\n",
       "\t<tr><td>1</td><td>B</td><td> 5</td></tr>\n",
       "\t<tr><td>1</td><td>B</td><td> 6</td></tr>\n",
       "\t<tr><td>1</td><td>B</td><td> 7</td></tr>\n",
       "\t<tr><td>2</td><td>A</td><td> 8</td></tr>\n",
       "\t<tr><td>2</td><td>A</td><td> 9</td></tr>\n",
       "\t<tr><td>2</td><td>B</td><td>10</td></tr>\n",
       "\t<tr><td>2</td><td>B</td><td>11</td></tr>\n",
       "\t<tr><td>2</td><td>B</td><td>12</td></tr>\n",
       "</tbody>\n",
       "</table>\n"
      ],
      "text/latex": [
       "A tibble: 12 × 3\n",
       "\\begin{tabular}{lll}\n",
       " group & subgroup & id\\\\\n",
       " <dbl> & <chr> & <dbl>\\\\\n",
       "\\hline\n",
       "\t 1 & A &  1\\\\\n",
       "\t 1 & A &  2\\\\\n",
       "\t 1 & A &  3\\\\\n",
       "\t 1 & B &  4\\\\\n",
       "\t 1 & B &  5\\\\\n",
       "\t 1 & B &  6\\\\\n",
       "\t 1 & B &  7\\\\\n",
       "\t 2 & A &  8\\\\\n",
       "\t 2 & A &  9\\\\\n",
       "\t 2 & B & 10\\\\\n",
       "\t 2 & B & 11\\\\\n",
       "\t 2 & B & 12\\\\\n",
       "\\end{tabular}\n"
      ],
      "text/markdown": [
       "\n",
       "A tibble: 12 × 3\n",
       "\n",
       "| group &lt;dbl&gt; | subgroup &lt;chr&gt; | id &lt;dbl&gt; |\n",
       "|---|---|---|\n",
       "| 1 | A |  1 |\n",
       "| 1 | A |  2 |\n",
       "| 1 | A |  3 |\n",
       "| 1 | B |  4 |\n",
       "| 1 | B |  5 |\n",
       "| 1 | B |  6 |\n",
       "| 1 | B |  7 |\n",
       "| 2 | A |  8 |\n",
       "| 2 | A |  9 |\n",
       "| 2 | B | 10 |\n",
       "| 2 | B | 11 |\n",
       "| 2 | B | 12 |\n",
       "\n"
      ],
      "text/plain": [
       "   group subgroup id\n",
       "1  1     A         1\n",
       "2  1     A         2\n",
       "3  1     A         3\n",
       "4  1     B         4\n",
       "5  1     B         5\n",
       "6  1     B         6\n",
       "7  1     B         7\n",
       "8  2     A         8\n",
       "9  2     A         9\n",
       "10 2     B        10\n",
       "11 2     B        11\n",
       "12 2     B        12"
      ]
     },
     "metadata": {},
     "output_type": "display_data"
    }
   ],
   "source": [
    "roster <- read_excel('data/roster.xlsx') |>\n",
    "fill(group, subgroup)\n",
    "roster"
   ]
  },
  {
   "attachments": {},
   "cell_type": "markdown",
   "metadata": {},
   "source": [
    "3. In a new Excel file, create the following dataset and save it as sales.xlsx. Alternatively, you can download it as an Excel file from here.\n",
    "\n",
    "a. Read sales.xlsx in and save as sales. The data frame should look like the following, with id and n as column names and with 9 rows.\n",
    "```r\n",
    "#> # A tibble: 9 × 2\n",
    "#>   id      n    \n",
    "#>   <chr>   <chr>\n",
    "#> 1 Brand 1 n    \n",
    "#> 2 1234    8    \n",
    "#> 3 8721    2    \n",
    "#> 4 1822    3    \n",
    "#> 5 Brand 2 n    \n",
    "#> 6 3333    1    \n",
    "#> 7 2156    3    \n",
    "#> 8 3987    6    \n",
    "#> 9 3216    5\n",
    "```\n",
    "b. Modify sales further to get it into the following tidy format with three columns (brand, id, and n) and 7 rows of data. Note that id and n are numeric, brand is a character variable.\n",
    "```r\n",
    "#> # A tibble: 7 × 3\n",
    "#>   brand      id     n\n",
    "#>   <chr>   <dbl> <dbl>\n",
    "#> 1 Brand 1  1234     8\n",
    "#> 2 Brand 1  8721     2\n",
    "#> 3 Brand 1  1822     3\n",
    "#> 4 Brand 2  3333     1\n",
    "#> 5 Brand 2  2156     3\n",
    "#> 6 Brand 2  3987     6\n",
    "#> 7 Brand 2  3216     5\n",
    "```"
   ]
  },
  {
   "cell_type": "code",
   "execution_count": 32,
   "metadata": {
    "vscode": {
     "languageId": "r"
    }
   },
   "outputs": [
    {
     "data": {
      "text/html": [
       "<table class=\"dataframe\">\n",
       "<caption>A tibble: 9 × 2</caption>\n",
       "<thead>\n",
       "\t<tr><th scope=col>id</th><th scope=col>n</th></tr>\n",
       "\t<tr><th scope=col>&lt;chr&gt;</th><th scope=col>&lt;chr&gt;</th></tr>\n",
       "</thead>\n",
       "<tbody>\n",
       "\t<tr><td>Brand 1</td><td>n  </td></tr>\n",
       "\t<tr><td>1234.0 </td><td>8.0</td></tr>\n",
       "\t<tr><td>8721.0 </td><td>2.0</td></tr>\n",
       "\t<tr><td>1822.0 </td><td>3.0</td></tr>\n",
       "\t<tr><td>Brand 2</td><td>n  </td></tr>\n",
       "\t<tr><td>3333.0 </td><td>1.0</td></tr>\n",
       "\t<tr><td>2156.0 </td><td>3.0</td></tr>\n",
       "\t<tr><td>3987.0 </td><td>6.0</td></tr>\n",
       "\t<tr><td>3216.0 </td><td>5.0</td></tr>\n",
       "</tbody>\n",
       "</table>\n"
      ],
      "text/latex": [
       "A tibble: 9 × 2\n",
       "\\begin{tabular}{ll}\n",
       " id & n\\\\\n",
       " <chr> & <chr>\\\\\n",
       "\\hline\n",
       "\t Brand 1 & n  \\\\\n",
       "\t 1234.0  & 8.0\\\\\n",
       "\t 8721.0  & 2.0\\\\\n",
       "\t 1822.0  & 3.0\\\\\n",
       "\t Brand 2 & n  \\\\\n",
       "\t 3333.0  & 1.0\\\\\n",
       "\t 2156.0  & 3.0\\\\\n",
       "\t 3987.0  & 6.0\\\\\n",
       "\t 3216.0  & 5.0\\\\\n",
       "\\end{tabular}\n"
      ],
      "text/markdown": [
       "\n",
       "A tibble: 9 × 2\n",
       "\n",
       "| id &lt;chr&gt; | n &lt;chr&gt; |\n",
       "|---|---|\n",
       "| Brand 1 | n   |\n",
       "| 1234.0  | 8.0 |\n",
       "| 8721.0  | 2.0 |\n",
       "| 1822.0  | 3.0 |\n",
       "| Brand 2 | n   |\n",
       "| 3333.0  | 1.0 |\n",
       "| 2156.0  | 3.0 |\n",
       "| 3987.0  | 6.0 |\n",
       "| 3216.0  | 5.0 |\n",
       "\n"
      ],
      "text/plain": [
       "  id      n  \n",
       "1 Brand 1 n  \n",
       "2 1234.0  8.0\n",
       "3 8721.0  2.0\n",
       "4 1822.0  3.0\n",
       "5 Brand 2 n  \n",
       "6 3333.0  1.0\n",
       "7 2156.0  3.0\n",
       "8 3987.0  6.0\n",
       "9 3216.0  5.0"
      ]
     },
     "metadata": {},
     "output_type": "display_data"
    }
   ],
   "source": [
    "#A\n",
    "sales <- read_excel('data/sales.xlsx', col_names = c('id', 'n'), skip = 4)\n",
    "sales"
   ]
  },
  {
   "cell_type": "code",
   "execution_count": 38,
   "metadata": {
    "vscode": {
     "languageId": "r"
    }
   },
   "outputs": [
    {
     "data": {
      "text/html": [
       "<table class=\"dataframe\">\n",
       "<caption>A tibble: 7 × 3</caption>\n",
       "<thead>\n",
       "\t<tr><th scope=col>brand</th><th scope=col>id</th><th scope=col>n</th></tr>\n",
       "\t<tr><th scope=col>&lt;chr&gt;</th><th scope=col>&lt;dbl&gt;</th><th scope=col>&lt;dbl&gt;</th></tr>\n",
       "</thead>\n",
       "<tbody>\n",
       "\t<tr><td>Brand 1</td><td>1234</td><td>8</td></tr>\n",
       "\t<tr><td>Brand 1</td><td>8721</td><td>2</td></tr>\n",
       "\t<tr><td>Brand 1</td><td>1822</td><td>3</td></tr>\n",
       "\t<tr><td>Brand 2</td><td>3333</td><td>1</td></tr>\n",
       "\t<tr><td>Brand 2</td><td>2156</td><td>3</td></tr>\n",
       "\t<tr><td>Brand 2</td><td>3987</td><td>6</td></tr>\n",
       "\t<tr><td>Brand 2</td><td>3216</td><td>5</td></tr>\n",
       "</tbody>\n",
       "</table>\n"
      ],
      "text/latex": [
       "A tibble: 7 × 3\n",
       "\\begin{tabular}{lll}\n",
       " brand & id & n\\\\\n",
       " <chr> & <dbl> & <dbl>\\\\\n",
       "\\hline\n",
       "\t Brand 1 & 1234 & 8\\\\\n",
       "\t Brand 1 & 8721 & 2\\\\\n",
       "\t Brand 1 & 1822 & 3\\\\\n",
       "\t Brand 2 & 3333 & 1\\\\\n",
       "\t Brand 2 & 2156 & 3\\\\\n",
       "\t Brand 2 & 3987 & 6\\\\\n",
       "\t Brand 2 & 3216 & 5\\\\\n",
       "\\end{tabular}\n"
      ],
      "text/markdown": [
       "\n",
       "A tibble: 7 × 3\n",
       "\n",
       "| brand &lt;chr&gt; | id &lt;dbl&gt; | n &lt;dbl&gt; |\n",
       "|---|---|---|\n",
       "| Brand 1 | 1234 | 8 |\n",
       "| Brand 1 | 8721 | 2 |\n",
       "| Brand 1 | 1822 | 3 |\n",
       "| Brand 2 | 3333 | 1 |\n",
       "| Brand 2 | 2156 | 3 |\n",
       "| Brand 2 | 3987 | 6 |\n",
       "| Brand 2 | 3216 | 5 |\n",
       "\n"
      ],
      "text/plain": [
       "  brand   id   n\n",
       "1 Brand 1 1234 8\n",
       "2 Brand 1 8721 2\n",
       "3 Brand 1 1822 3\n",
       "4 Brand 2 3333 1\n",
       "5 Brand 2 2156 3\n",
       "6 Brand 2 3987 6\n",
       "7 Brand 2 3216 5"
      ]
     },
     "metadata": {},
     "output_type": "display_data"
    }
   ],
   "source": [
    "#B\n",
    " sales |>\n",
    "  mutate(\n",
    "    brand = ifelse(str_detect(id, \"Brand\"), id, NA),\n",
    "    id = parse_number(id),\n",
    "    n = parse_number(n, na = \"n\")) |>\n",
    "  fill(brand) |>\n",
    "  drop_na() |>\n",
    "  relocate(brand)"
   ]
  },
  {
   "attachments": {},
   "cell_type": "markdown",
   "metadata": {},
   "source": [
    "4. Recreate the bake_sale data frame, write it out to an Excel file using the write.xlsx() function from the openxlsx package."
   ]
  },
  {
   "cell_type": "code",
   "execution_count": 39,
   "metadata": {
    "vscode": {
     "languageId": "r"
    }
   },
   "outputs": [
    {
     "ename": "ERROR",
     "evalue": "Error in write_xlsx(bake_sale, path = \"data/bake-sale.xlsx\"): could not find function \"write_xlsx\"\n",
     "output_type": "error",
     "traceback": [
      "Error in write_xlsx(bake_sale, path = \"data/bake-sale.xlsx\"): could not find function \"write_xlsx\"\nTraceback:\n"
     ]
    }
   ],
   "source": [
    "bake_sale <- tibble(\n",
    "  item     = factor(c(\"brownie\", \"cupcake\", \"cookie\")),\n",
    "  quantity = c(10, 5, 8))\n",
    "\n",
    "write_xlsx(bake_sale, path = \"data/bake-sale.xlsx\")"
   ]
  },
  {
   "attachments": {},
   "cell_type": "markdown",
   "metadata": {},
   "source": [
    "5. In Chapter 7 you learned about the janitor::clean_names() function to turn column names into snake case. Read the students.xlsx file that we introduced earlier in this section and use this function to “clean” the column names."
   ]
  },
  {
   "attachments": {},
   "cell_type": "markdown",
   "metadata": {},
   "source": [
    "6. What happens if you try to read in a file with .xlsx extension with read_xls()?"
   ]
  },
  {
   "attachments": {},
   "cell_type": "markdown",
   "metadata": {},
   "source": [
    "## 20.3.6 Assignments"
   ]
  },
  {
   "attachments": {},
   "cell_type": "markdown",
   "metadata": {},
   "source": [
    "1. Read the students dataset from earlier in the chapter from Excel and also from Google Sheets, with no additional arguments supplied to the read_excel() and read_sheet() functions. Are the resulting data frames in R exactly the same? If not, how are they different?"
   ]
  },
  {
   "attachments": {},
   "cell_type": "markdown",
   "metadata": {},
   "source": [
    "2. Read the Google Sheet titled survey from https://pos.it/r4ds-survey, with survey_id as a character variable and n_pets as a numerical variable."
   ]
  },
  {
   "attachments": {},
   "cell_type": "markdown",
   "metadata": {},
   "source": [
    "3. Read the Google Sheet titled roster from https://pos.it/r4ds-roster. The resulting data frame should be called roster and should look like the following.\n",
    "```r\n",
    "#> # A tibble: 12 × 3\n",
    "#>    group subgroup    id\n",
    "#>    <dbl> <chr>    <dbl>\n",
    "#>  1     1 A            1\n",
    "#>  2     1 A            2\n",
    "#>  3     1 A            3\n",
    "#>  4     1 B            4\n",
    "#>  5     1 B            5\n",
    "#>  6     1 B            6\n",
    "#>  7     1 B            7\n",
    "#>  8     2 A            8\n",
    "#>  9     2 A            9\n",
    "#> 10     2 B           10\n",
    "#> 11     2 B           11\n",
    "#> 12     2 B           12\n",
    "```"
   ]
  }
 ],
 "metadata": {
  "kernelspec": {
   "display_name": "R",
   "language": "R",
   "name": "ir"
  },
  "language_info": {
   "codemirror_mode": "r",
   "file_extension": ".r",
   "mimetype": "text/x-r-source",
   "name": "R",
   "pygments_lexer": "r",
   "version": "4.2.1"
  },
  "orig_nbformat": 4
 },
 "nbformat": 4,
 "nbformat_minor": 2
}
